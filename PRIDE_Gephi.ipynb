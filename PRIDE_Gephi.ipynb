{
 "cells": [
  {
   "cell_type": "markdown",
   "metadata": {
    "id": "rxLtH38wTPZu",
    "nbpresent": {
     "id": "50ee4aa0-1c72-4ec7-9e0b-95383ef344a9"
    }
   },
   "source": [
    "\n",
    "# PRIDE- Parkinson's Research through Integrative Data Experiments\n",
    "\n",
    "## Code for creating Gephi Graph"
   ]
  },
  {
   "cell_type": "code",
   "execution_count": 2,
   "metadata": {
    "collapsed": true,
    "executionInfo": {
     "elapsed": 1645,
     "status": "ok",
     "timestamp": 1605384302116,
     "user": {
      "displayName": "Xin Gu",
      "photoUrl": "",
      "userId": "02343671388736252518"
     },
     "user_tz": 360
    },
    "id": "4nL5Ihp1TGWc",
    "nbpresent": {
     "id": "1ec14357-2cc1-48b3-a45a-3f7bfb5366c6"
    }
   },
   "outputs": [],
   "source": [
    "import pandas as pd\n",
    "import numpy as np\n",
    "import re\n",
    "import nltk\n",
    "import os\n",
    "import gzip\n",
    "import pylab as plt\n",
    "import json\n",
    "import os\n"
   ]
  },
  {
   "cell_type": "markdown",
   "metadata": {
    "id": "WS8nU9AaTGWj",
    "nbpresent": {
     "id": "e0c67b59-a5f8-4e89-acb6-d4a1554841cd"
    }
   },
   "source": [
    "## Data Preprocessing\n",
    "Worked with files downloaded from:\n",
    "http://ctdbase.org/downloads/;jsessionid=74BC65C36365CF4BCC193C670F9C670E#cd"
   ]
  },
  {
   "cell_type": "markdown",
   "metadata": {
    "id": "171hvfBSUKdu",
    "nbpresent": {
     "id": "901f225e-769c-4f10-b245-d264bc882876"
    }
   },
   "source": [
    "### Prepare nodes table"
   ]
  },
  {
   "cell_type": "code",
   "execution_count": 3,
   "metadata": {
    "colab": {
     "base_uri": "https://localhost:8080/",
     "height": 450
    },
    "collapsed": false,
    "executionInfo": {
     "elapsed": 315,
     "status": "error",
     "timestamp": 1605384459623,
     "user": {
      "displayName": "Xin Gu",
      "photoUrl": "",
      "userId": "02343671388736252518"
     },
     "user_tz": 360
    },
    "id": "qjyWxWCkTGWk",
    "nbpresent": {
     "id": "8755913a-99c1-4306-9a8b-f51946f1602e"
    },
    "outputId": "268f91e8-9958-4928-fa93-6a457286e8d5"
   },
   "outputs": [],
   "source": [
    "\n",
    "#Gene vocabulary\n",
    "#GeneSymbol\n",
    "#GeneName\n",
    "#GeneID (NCBI Gene identifier)\n",
    "#AltGeneIDs (alternative NCBI Gene identifiers; '|'-delimited list)\n",
    "#Synonyms ('|'-delimited list)\n",
    "#BioGRIDIDs ('|'-delimited list)\n",
    "#PharmGKBIDs ('|'-delimited list)\n",
    "#UniprotIDs ('|'-delimited list)\n",
    "\n",
    "genes = pd.read_csv('CTD_genes.csv', skiprows=range(1, 29),\n",
    "                      names = ['GeneSymbol',\n",
    "                               'GeneName',\n",
    "                               'GeneID',\n",
    "                               'AltGeneIDs',\n",
    "                               'Synonyms',\n",
    "                               'BioGRIDIDs',\n",
    "                               'PharmGKBIDs',\n",
    "                               'UniprotIDs'])\n",
    "genes = genes[1:]\n",
    "genes.drop(['AltGeneIDs','Synonyms','BioGRIDIDs',\n",
    "                           'PharmGKBIDs','UniprotIDs'], axis = 1, inplace = True)"
   ]
  },
  {
   "cell_type": "code",
   "execution_count": 4,
   "metadata": {
    "collapsed": false,
    "id": "AyApUNZxTGWr",
    "nbpresent": {
     "id": "6f603466-8a9d-4e0a-a9b2-8725db93baac"
    },
    "outputId": "fc9121a1-2613-40e1-8746-42e14ca8cb37"
   },
   "outputs": [
    {
     "data": {
      "text/plain": [
       "(532824, 3)"
      ]
     },
     "execution_count": 4,
     "metadata": {},
     "output_type": "execute_result"
    }
   ],
   "source": [
    "genes.shape"
   ]
  },
  {
   "cell_type": "code",
   "execution_count": 5,
   "metadata": {
    "collapsed": false,
    "id": "DitP3FgWTGW1",
    "nbpresent": {
     "id": "7a3e9019-79d9-420d-9af9-7be3f311d69e"
    },
    "outputId": "c986c150-fb8e-431b-8a3d-57b00a385ae7"
   },
   "outputs": [
    {
     "data": {
      "text/html": [
       "<div>\n",
       "<table border=\"1\" class=\"dataframe\">\n",
       "  <thead>\n",
       "    <tr style=\"text-align: right;\">\n",
       "      <th></th>\n",
       "      <th>GeneSymbol</th>\n",
       "      <th>GeneName</th>\n",
       "      <th>GeneID</th>\n",
       "    </tr>\n",
       "  </thead>\n",
       "  <tbody>\n",
       "    <tr>\n",
       "      <th>1</th>\n",
       "      <td>03B03F</td>\n",
       "      <td>DNA segment, 03B03F (Research Genetics)</td>\n",
       "      <td>27777.0</td>\n",
       "    </tr>\n",
       "    <tr>\n",
       "      <th>2</th>\n",
       "      <td>03B03R</td>\n",
       "      <td>DNA segment, 03B03R (Research Genetics)</td>\n",
       "      <td>27778.0</td>\n",
       "    </tr>\n",
       "    <tr>\n",
       "      <th>3</th>\n",
       "      <td>03.MMHAP34FRA.SEQ</td>\n",
       "      <td>DNA segment, 03.MMHAP34FRA.seq</td>\n",
       "      <td>53288.0</td>\n",
       "    </tr>\n",
       "    <tr>\n",
       "      <th>4</th>\n",
       "      <td>064YA</td>\n",
       "      <td>NaN</td>\n",
       "      <td>5658107.0</td>\n",
       "    </tr>\n",
       "    <tr>\n",
       "      <th>5</th>\n",
       "      <td>102G4T7</td>\n",
       "      <td>DNA segment, 102g4T7</td>\n",
       "      <td>56573.0</td>\n",
       "    </tr>\n",
       "  </tbody>\n",
       "</table>\n",
       "</div>"
      ],
      "text/plain": [
       "          GeneSymbol                                 GeneName     GeneID\n",
       "1             03B03F  DNA segment, 03B03F (Research Genetics)    27777.0\n",
       "2             03B03R  DNA segment, 03B03R (Research Genetics)    27778.0\n",
       "3  03.MMHAP34FRA.SEQ           DNA segment, 03.MMHAP34FRA.seq    53288.0\n",
       "4              064YA                                      NaN  5658107.0\n",
       "5            102G4T7                     DNA segment, 102g4T7    56573.0"
      ]
     },
     "execution_count": 5,
     "metadata": {},
     "output_type": "execute_result"
    }
   ],
   "source": [
    "genes.head()"
   ]
  },
  {
   "cell_type": "code",
   "execution_count": 6,
   "metadata": {
    "collapsed": false,
    "id": "nOoyNRoZTGW8",
    "nbpresent": {
     "id": "5119f95a-8dec-4ff8-b532-77e17ad6c8e8"
    },
    "outputId": "9d925fac-18fb-4de7-b636-7e7cfdaa6c2f"
   },
   "outputs": [
    {
     "data": {
      "text/plain": [
       "GeneSymbol       1\n",
       "GeneName      2431\n",
       "GeneID           0\n",
       "dtype: int64"
      ]
     },
     "execution_count": 6,
     "metadata": {},
     "output_type": "execute_result"
    }
   ],
   "source": [
    "genes.isnull().sum()"
   ]
  },
  {
   "cell_type": "code",
   "execution_count": 7,
   "metadata": {
    "collapsed": false,
    "id": "JJwe9LQ3TGXI",
    "nbpresent": {
     "id": "7c3bf4d1-1273-42a9-bab8-05c07770363e"
    },
    "outputId": "f5db6e0f-43c8-48ae-d532-871cdad62d97"
   },
   "outputs": [
    {
     "data": {
      "text/plain": [
       "(530392, 3)"
      ]
     },
     "execution_count": 7,
     "metadata": {},
     "output_type": "execute_result"
    }
   ],
   "source": [
    "genes.dropna().shape"
   ]
  },
  {
   "cell_type": "code",
   "execution_count": 8,
   "metadata": {
    "collapsed": true,
    "id": "LPnK9wInTGXM",
    "nbpresent": {
     "id": "bb72065c-b7b8-4726-925c-c49fb02c553b"
    }
   },
   "outputs": [],
   "source": [
    "# prepare nodes csv for gephi\n",
    "gene_nodes = genes[['GeneSymbol','GeneName']]\n",
    "#gene_nodes.columns = ['Id', 'Label']"
   ]
  },
  {
   "cell_type": "code",
   "execution_count": null,
   "metadata": {
    "collapsed": true,
    "id": "rXZ77I6ITGXS",
    "nbpresent": {
     "id": "4cbd7a85-0040-4f23-a021-8d2b42b7caa9"
    }
   },
   "outputs": [],
   "source": [
    "gene_nodes.to_csv(\"gene_nodes.csv\",index=False)"
   ]
  },
  {
   "cell_type": "code",
   "execution_count": 9,
   "metadata": {
    "collapsed": true,
    "id": "OF2NvZLdTGXX",
    "nbpresent": {
     "id": "7a16f66a-918a-4dc1-88b2-800bc96e2272"
    }
   },
   "outputs": [],
   "source": [
    "#Chemical vocabulary\n",
    "#Fields:\n",
    "\n",
    "#    ChemicalName\n",
    "#   ChemicalID (MeSH identifier)\n",
    "#   CasRN (CAS Registry Number, if available)\n",
    "#   Definition\n",
    "#    ParentIDs (identifiers of the parent terms; '|'-delimited list)\n",
    "#    TreeNumbers (identifiers of the chemical's nodes; '|'-delimited list)\n",
    "#    ParentTreeNumbers (identifiers of the parent nodes; '|'-delimited list)\n",
    "#    Synonyms ('|'-delimited list)\n",
    "\n",
    "chem = pd.read_csv('CTD_chemicals.csv', skiprows=range(1, 27),header = 1)\n"
   ]
  },
  {
   "cell_type": "code",
   "execution_count": 10,
   "metadata": {
    "collapsed": false,
    "id": "N0G5eS3dTGXd",
    "nbpresent": {
     "id": "0320ebcb-179d-4dc1-a2b5-ba5f03bcbafc"
    },
    "outputId": "78f8e069-7db4-450a-9175-17cbf4ca808c"
   },
   "outputs": [
    {
     "data": {
      "text/html": [
       "<div>\n",
       "<table border=\"1\" class=\"dataframe\">\n",
       "  <thead>\n",
       "    <tr style=\"text-align: right;\">\n",
       "      <th></th>\n",
       "      <th># ChemicalName</th>\n",
       "      <th>ChemicalID</th>\n",
       "      <th>CasRN</th>\n",
       "      <th>Definition</th>\n",
       "      <th>ParentIDs</th>\n",
       "      <th>TreeNumbers</th>\n",
       "      <th>ParentTreeNumbers</th>\n",
       "      <th>Synonyms</th>\n",
       "    </tr>\n",
       "  </thead>\n",
       "  <tbody>\n",
       "    <tr>\n",
       "      <th>1</th>\n",
       "      <td>(0.017ferrocene)amylose</td>\n",
       "      <td>MESH:C089250</td>\n",
       "      <td>NaN</td>\n",
       "      <td>NaN</td>\n",
       "      <td>MESH:D000075163|MESH:D000688|MESH:D005296</td>\n",
       "      <td>D01.490.200/C089250|D02.691.657/C089250|D09.30...</td>\n",
       "      <td>D01.490.200|D02.691.657|D09.301.915.361|D09.69...</td>\n",
       "      <td>(0.017 ferrocene)amylose</td>\n",
       "    </tr>\n",
       "    <tr>\n",
       "      <th>2</th>\n",
       "      <td>001-C8-NBD</td>\n",
       "      <td>MESH:C114385</td>\n",
       "      <td>NaN</td>\n",
       "      <td>NaN</td>\n",
       "      <td>MESH:D009842|MESH:D010069</td>\n",
       "      <td>D03.383.129.462.580/C114385|D12.644.456/C114385</td>\n",
       "      <td>D03.383.129.462.580|D12.644.456</td>\n",
       "      <td>001 C8 NBD|H-MeTyr-Arg-MeArg-D-Leu-NH(CH2)8NH-...</td>\n",
       "    </tr>\n",
       "    <tr>\n",
       "      <th>3</th>\n",
       "      <td>001-C8 oligopeptide</td>\n",
       "      <td>MESH:C114386</td>\n",
       "      <td>NaN</td>\n",
       "      <td>NaN</td>\n",
       "      <td>MESH:D009842</td>\n",
       "      <td>D12.644.456/C114386</td>\n",
       "      <td>D12.644.456</td>\n",
       "      <td>001 C8 oligopeptide|H-MeTyr-Arg-MeArg-D-Leu-NH...</td>\n",
       "    </tr>\n",
       "    <tr>\n",
       "      <th>4</th>\n",
       "      <td>0231A , Streptomyces</td>\n",
       "      <td>MESH:C434150</td>\n",
       "      <td>NaN</td>\n",
       "      <td>NaN</td>\n",
       "      <td>MESH:D006576</td>\n",
       "      <td>D03.633.400/C434150</td>\n",
       "      <td>D03.633.400</td>\n",
       "      <td>NaN</td>\n",
       "    </tr>\n",
       "    <tr>\n",
       "      <th>5</th>\n",
       "      <td>0231B, Streptomyces</td>\n",
       "      <td>MESH:C434149</td>\n",
       "      <td>NaN</td>\n",
       "      <td>NaN</td>\n",
       "      <td>MESH:D006576</td>\n",
       "      <td>D03.633.400/C434149</td>\n",
       "      <td>D03.633.400</td>\n",
       "      <td>NaN</td>\n",
       "    </tr>\n",
       "  </tbody>\n",
       "</table>\n",
       "</div>"
      ],
      "text/plain": [
       "            # ChemicalName    ChemicalID CasRN Definition  \\\n",
       "1  (0.017ferrocene)amylose  MESH:C089250   NaN        NaN   \n",
       "2               001-C8-NBD  MESH:C114385   NaN        NaN   \n",
       "3      001-C8 oligopeptide  MESH:C114386   NaN        NaN   \n",
       "4     0231A , Streptomyces  MESH:C434150   NaN        NaN   \n",
       "5      0231B, Streptomyces  MESH:C434149   NaN        NaN   \n",
       "\n",
       "                                   ParentIDs  \\\n",
       "1  MESH:D000075163|MESH:D000688|MESH:D005296   \n",
       "2                  MESH:D009842|MESH:D010069   \n",
       "3                               MESH:D009842   \n",
       "4                               MESH:D006576   \n",
       "5                               MESH:D006576   \n",
       "\n",
       "                                         TreeNumbers  \\\n",
       "1  D01.490.200/C089250|D02.691.657/C089250|D09.30...   \n",
       "2    D03.383.129.462.580/C114385|D12.644.456/C114385   \n",
       "3                                D12.644.456/C114386   \n",
       "4                                D03.633.400/C434150   \n",
       "5                                D03.633.400/C434149   \n",
       "\n",
       "                                   ParentTreeNumbers  \\\n",
       "1  D01.490.200|D02.691.657|D09.301.915.361|D09.69...   \n",
       "2                    D03.383.129.462.580|D12.644.456   \n",
       "3                                        D12.644.456   \n",
       "4                                        D03.633.400   \n",
       "5                                        D03.633.400   \n",
       "\n",
       "                                            Synonyms  \n",
       "1                           (0.017 ferrocene)amylose  \n",
       "2  001 C8 NBD|H-MeTyr-Arg-MeArg-D-Leu-NH(CH2)8NH-...  \n",
       "3  001 C8 oligopeptide|H-MeTyr-Arg-MeArg-D-Leu-NH...  \n",
       "4                                                NaN  \n",
       "5                                                NaN  "
      ]
     },
     "execution_count": 10,
     "metadata": {},
     "output_type": "execute_result"
    }
   ],
   "source": [
    "chem = chem.drop([0])\n",
    "chem.head()"
   ]
  },
  {
   "cell_type": "code",
   "execution_count": 11,
   "metadata": {
    "collapsed": false,
    "id": "mzGz1o0KTGXh",
    "nbpresent": {
     "id": "fd8acd0d-98e1-4966-8d86-51c5886b6c56"
    },
    "outputId": "2608945c-88b3-4c68-efef-4e021b52a68c"
   },
   "outputs": [
    {
     "data": {
      "text/plain": [
       "(173886, 8)"
      ]
     },
     "execution_count": 11,
     "metadata": {},
     "output_type": "execute_result"
    }
   ],
   "source": [
    "chem.shape"
   ]
  },
  {
   "cell_type": "code",
   "execution_count": 12,
   "metadata": {
    "collapsed": false,
    "id": "rWwyrqkkTGXm",
    "nbpresent": {
     "id": "dc89924a-1126-4f61-ba97-a6e8d87cc3a3"
    },
    "outputId": "a24f8e5a-b784-4070-c323-de886ed64a0e"
   },
   "outputs": [
    {
     "data": {
      "text/plain": [
       "# ChemicalName            0\n",
       "ChemicalID                0\n",
       "CasRN                117488\n",
       "Definition           167999\n",
       "ParentIDs                 1\n",
       "TreeNumbers               0\n",
       "ParentTreeNumbers         1\n",
       "Synonyms              60965\n",
       "dtype: int64"
      ]
     },
     "execution_count": 12,
     "metadata": {},
     "output_type": "execute_result"
    }
   ],
   "source": [
    "chem.isnull().sum()"
   ]
  },
  {
   "cell_type": "code",
   "execution_count": 13,
   "metadata": {
    "collapsed": false,
    "id": "rXv0jsmNTGXr",
    "nbpresent": {
     "id": "022d657b-f483-44ab-92eb-e93f86d4532f"
    },
    "outputId": "b7e3028c-77c4-4789-8110-376cd067c34e"
   },
   "outputs": [
    {
     "data": {
      "text/html": [
       "<div>\n",
       "<table border=\"1\" class=\"dataframe\">\n",
       "  <thead>\n",
       "    <tr style=\"text-align: right;\">\n",
       "      <th></th>\n",
       "      <th>Label</th>\n",
       "      <th>Id</th>\n",
       "    </tr>\n",
       "  </thead>\n",
       "  <tbody>\n",
       "    <tr>\n",
       "      <th>1</th>\n",
       "      <td>(0.017ferrocene)amylose</td>\n",
       "      <td>MESH:C089250</td>\n",
       "    </tr>\n",
       "    <tr>\n",
       "      <th>2</th>\n",
       "      <td>001-C8-NBD</td>\n",
       "      <td>MESH:C114385</td>\n",
       "    </tr>\n",
       "    <tr>\n",
       "      <th>3</th>\n",
       "      <td>001-C8 oligopeptide</td>\n",
       "      <td>MESH:C114386</td>\n",
       "    </tr>\n",
       "    <tr>\n",
       "      <th>4</th>\n",
       "      <td>0231A , Streptomyces</td>\n",
       "      <td>MESH:C434150</td>\n",
       "    </tr>\n",
       "    <tr>\n",
       "      <th>5</th>\n",
       "      <td>0231B, Streptomyces</td>\n",
       "      <td>MESH:C434149</td>\n",
       "    </tr>\n",
       "  </tbody>\n",
       "</table>\n",
       "</div>"
      ],
      "text/plain": [
       "                     Label            Id\n",
       "1  (0.017ferrocene)amylose  MESH:C089250\n",
       "2               001-C8-NBD  MESH:C114385\n",
       "3      001-C8 oligopeptide  MESH:C114386\n",
       "4     0231A , Streptomyces  MESH:C434150\n",
       "5      0231B, Streptomyces  MESH:C434149"
      ]
     },
     "execution_count": 13,
     "metadata": {},
     "output_type": "execute_result"
    }
   ],
   "source": [
    "# prepare nodes csv for gephi\n",
    "chem_nodes = chem.iloc[:,:2]\n",
    "chem_nodes.columns = ['Label', 'Id']\n",
    "chem_nodes.head()"
   ]
  },
  {
   "cell_type": "code",
   "execution_count": 14,
   "metadata": {
    "collapsed": false,
    "id": "Mpzqo1bhTGXv",
    "nbpresent": {
     "id": "88394e38-3d9c-4519-930c-e4d49221d21f"
    },
    "outputId": "5f29edd5-b634-491e-95a9-78431f8fd654"
   },
   "outputs": [
    {
     "data": {
      "text/html": [
       "<div>\n",
       "<table border=\"1\" class=\"dataframe\">\n",
       "  <thead>\n",
       "    <tr style=\"text-align: right;\">\n",
       "      <th></th>\n",
       "      <th># DiseaseName</th>\n",
       "      <th>DiseaseID</th>\n",
       "      <th>AltDiseaseIDs</th>\n",
       "      <th>Definition</th>\n",
       "      <th>ParentIDs</th>\n",
       "      <th>TreeNumbers</th>\n",
       "      <th>ParentTreeNumbers</th>\n",
       "      <th>Synonyms</th>\n",
       "      <th>SlimMappings</th>\n",
       "    </tr>\n",
       "  </thead>\n",
       "  <tbody>\n",
       "    <tr>\n",
       "      <th>1</th>\n",
       "      <td>10p Deletion Syndrome (Partial)</td>\n",
       "      <td>MESH:C538288</td>\n",
       "      <td>NaN</td>\n",
       "      <td>NaN</td>\n",
       "      <td>MESH:D002872|MESH:D025063</td>\n",
       "      <td>C16.131.260/C538288|C16.320.180/C538288|C23.55...</td>\n",
       "      <td>C16.131.260|C16.320.180|C23.550.210.050.500.500</td>\n",
       "      <td>Chromosome 10, 10p- Partial|Chromosome 10, mon...</td>\n",
       "      <td>Congenital abnormality|Genetic disease (inborn...</td>\n",
       "    </tr>\n",
       "    <tr>\n",
       "      <th>2</th>\n",
       "      <td>13q deletion syndrome</td>\n",
       "      <td>MESH:C535484</td>\n",
       "      <td>NaN</td>\n",
       "      <td>NaN</td>\n",
       "      <td>MESH:D002872|MESH:D025063</td>\n",
       "      <td>C16.131.260/C535484|C16.320.180/C535484|C23.55...</td>\n",
       "      <td>C16.131.260|C16.320.180|C23.550.210.050.500.500</td>\n",
       "      <td>Chromosome 13q deletion|Chromosome 13q deletio...</td>\n",
       "      <td>Congenital abnormality|Genetic disease (inborn...</td>\n",
       "    </tr>\n",
       "    <tr>\n",
       "      <th>3</th>\n",
       "      <td>15q24 Microdeletion</td>\n",
       "      <td>MESH:C579849</td>\n",
       "      <td>DO:DOID:0060395</td>\n",
       "      <td>NaN</td>\n",
       "      <td>MESH:D002872|MESH:D008607|MESH:D025063</td>\n",
       "      <td>C10.597.606.360/C579849|C16.131.260/C579849|C1...</td>\n",
       "      <td>C10.597.606.360|C16.131.260|C16.320.180|C23.55...</td>\n",
       "      <td>15q24 Deletion|15q24 Microdeletion Syndrome|In...</td>\n",
       "      <td>Congenital abnormality|Genetic disease (inborn...</td>\n",
       "    </tr>\n",
       "    <tr>\n",
       "      <th>4</th>\n",
       "      <td>16p11.2 Deletion Syndrome</td>\n",
       "      <td>MESH:C579850</td>\n",
       "      <td>NaN</td>\n",
       "      <td>NaN</td>\n",
       "      <td>MESH:D001321|MESH:D002872|MESH:D008607|MESH:D0...</td>\n",
       "      <td>C10.597.606.360/C579850|C16.131.260/C579850|C1...</td>\n",
       "      <td>C10.597.606.360|C16.131.260|C16.320.180|C23.55...</td>\n",
       "      <td>NaN</td>\n",
       "      <td>Congenital abnormality|Genetic disease (inborn...</td>\n",
       "    </tr>\n",
       "    <tr>\n",
       "      <th>5</th>\n",
       "      <td>17,20-Lyase Deficiency, Isolated</td>\n",
       "      <td>MESH:C567076</td>\n",
       "      <td>NaN</td>\n",
       "      <td>NaN</td>\n",
       "      <td>MESH:D000312</td>\n",
       "      <td>C12.706.316.090.500/C567076|C13.351.875.253.09...</td>\n",
       "      <td>C12.706.316.090.500|C13.351.875.253.090.500|C1...</td>\n",
       "      <td>17-Alpha-Hydroxylase-17,20-Lyase Deficiency, C...</td>\n",
       "      <td>Congenital abnormality|Endocrine system diseas...</td>\n",
       "    </tr>\n",
       "  </tbody>\n",
       "</table>\n",
       "</div>"
      ],
      "text/plain": [
       "                      # DiseaseName     DiseaseID    AltDiseaseIDs Definition  \\\n",
       "1   10p Deletion Syndrome (Partial)  MESH:C538288              NaN        NaN   \n",
       "2             13q deletion syndrome  MESH:C535484              NaN        NaN   \n",
       "3               15q24 Microdeletion  MESH:C579849  DO:DOID:0060395        NaN   \n",
       "4         16p11.2 Deletion Syndrome  MESH:C579850              NaN        NaN   \n",
       "5  17,20-Lyase Deficiency, Isolated  MESH:C567076              NaN        NaN   \n",
       "\n",
       "                                           ParentIDs  \\\n",
       "1                          MESH:D002872|MESH:D025063   \n",
       "2                          MESH:D002872|MESH:D025063   \n",
       "3             MESH:D002872|MESH:D008607|MESH:D025063   \n",
       "4  MESH:D001321|MESH:D002872|MESH:D008607|MESH:D0...   \n",
       "5                                       MESH:D000312   \n",
       "\n",
       "                                         TreeNumbers  \\\n",
       "1  C16.131.260/C538288|C16.320.180/C538288|C23.55...   \n",
       "2  C16.131.260/C535484|C16.320.180/C535484|C23.55...   \n",
       "3  C10.597.606.360/C579849|C16.131.260/C579849|C1...   \n",
       "4  C10.597.606.360/C579850|C16.131.260/C579850|C1...   \n",
       "5  C12.706.316.090.500/C567076|C13.351.875.253.09...   \n",
       "\n",
       "                                   ParentTreeNumbers  \\\n",
       "1    C16.131.260|C16.320.180|C23.550.210.050.500.500   \n",
       "2    C16.131.260|C16.320.180|C23.550.210.050.500.500   \n",
       "3  C10.597.606.360|C16.131.260|C16.320.180|C23.55...   \n",
       "4  C10.597.606.360|C16.131.260|C16.320.180|C23.55...   \n",
       "5  C12.706.316.090.500|C13.351.875.253.090.500|C1...   \n",
       "\n",
       "                                            Synonyms  \\\n",
       "1  Chromosome 10, 10p- Partial|Chromosome 10, mon...   \n",
       "2  Chromosome 13q deletion|Chromosome 13q deletio...   \n",
       "3  15q24 Deletion|15q24 Microdeletion Syndrome|In...   \n",
       "4                                                NaN   \n",
       "5  17-Alpha-Hydroxylase-17,20-Lyase Deficiency, C...   \n",
       "\n",
       "                                        SlimMappings  \n",
       "1  Congenital abnormality|Genetic disease (inborn...  \n",
       "2  Congenital abnormality|Genetic disease (inborn...  \n",
       "3  Congenital abnormality|Genetic disease (inborn...  \n",
       "4  Congenital abnormality|Genetic disease (inborn...  \n",
       "5  Congenital abnormality|Endocrine system diseas...  "
      ]
     },
     "execution_count": 14,
     "metadata": {},
     "output_type": "execute_result"
    }
   ],
   "source": [
    "# Disease vocabulary (MEDIC)\n",
    "#Fields (non-OBO):\n",
    "\n",
    "#    DiseaseName\n",
    "#    DiseaseID (MeSH or OMIM identifier)\n",
    "#    Definition\n",
    "#    AltDiseaseIDs (alternative identifiers; '|'-delimited list)\n",
    "#    ParentIDs (identifiers of the parent terms; '|'-delimited list)\n",
    "#    TreeNumbers (identifiers of the disease's nodes; '|'-delimited list)\n",
    "#    ParentTreeNumbers (identifiers of the parent nodes; '|'-delimited list)\n",
    "#    Synonyms ('|'-delimited list)\n",
    "#    SlimMappings (MEDIC-Slim mappings; '|'-delimited list)\n",
    "\n",
    "disease = pd.read_csv('CTD_diseases.csv', skiprows=range(1, 27),header=1)\n",
    "disease = disease.drop([0])\n",
    "disease.head()"
   ]
  },
  {
   "cell_type": "code",
   "execution_count": 15,
   "metadata": {
    "collapsed": false,
    "id": "cDzGeVKMTGXz",
    "nbpresent": {
     "id": "fa779dee-de01-45c3-8dc0-7a378b1028a7"
    },
    "outputId": "41c1dd61-6473-43bd-9b1b-257795991e5d"
   },
   "outputs": [
    {
     "data": {
      "text/plain": [
       "# DiseaseName           0\n",
       "DiseaseID               0\n",
       "AltDiseaseIDs        6646\n",
       "Definition           8083\n",
       "ParentIDs               1\n",
       "TreeNumbers             0\n",
       "ParentTreeNumbers       1\n",
       "Synonyms             2042\n",
       "SlimMappings           57\n",
       "dtype: int64"
      ]
     },
     "execution_count": 15,
     "metadata": {},
     "output_type": "execute_result"
    }
   ],
   "source": [
    "disease.isnull().sum()"
   ]
  },
  {
   "cell_type": "code",
   "execution_count": 16,
   "metadata": {
    "collapsed": false,
    "id": "vm1qqIezTGX2",
    "nbpresent": {
     "id": "d12a96bf-856e-4574-99f4-e3220ae09d26"
    },
    "outputId": "1219b74d-05ff-49dc-a49c-1dffe69a05e1"
   },
   "outputs": [
    {
     "data": {
      "text/html": [
       "<div>\n",
       "<table border=\"1\" class=\"dataframe\">\n",
       "  <thead>\n",
       "    <tr style=\"text-align: right;\">\n",
       "      <th></th>\n",
       "      <th>Label</th>\n",
       "      <th>Id</th>\n",
       "    </tr>\n",
       "  </thead>\n",
       "  <tbody>\n",
       "    <tr>\n",
       "      <th>1</th>\n",
       "      <td>10p Deletion Syndrome (Partial)</td>\n",
       "      <td>MESH:C538288</td>\n",
       "    </tr>\n",
       "    <tr>\n",
       "      <th>2</th>\n",
       "      <td>13q deletion syndrome</td>\n",
       "      <td>MESH:C535484</td>\n",
       "    </tr>\n",
       "    <tr>\n",
       "      <th>3</th>\n",
       "      <td>15q24 Microdeletion</td>\n",
       "      <td>MESH:C579849</td>\n",
       "    </tr>\n",
       "    <tr>\n",
       "      <th>4</th>\n",
       "      <td>16p11.2 Deletion Syndrome</td>\n",
       "      <td>MESH:C579850</td>\n",
       "    </tr>\n",
       "    <tr>\n",
       "      <th>5</th>\n",
       "      <td>17,20-Lyase Deficiency, Isolated</td>\n",
       "      <td>MESH:C567076</td>\n",
       "    </tr>\n",
       "  </tbody>\n",
       "</table>\n",
       "</div>"
      ],
      "text/plain": [
       "                              Label            Id\n",
       "1   10p Deletion Syndrome (Partial)  MESH:C538288\n",
       "2             13q deletion syndrome  MESH:C535484\n",
       "3               15q24 Microdeletion  MESH:C579849\n",
       "4         16p11.2 Deletion Syndrome  MESH:C579850\n",
       "5  17,20-Lyase Deficiency, Isolated  MESH:C567076"
      ]
     },
     "execution_count": 16,
     "metadata": {},
     "output_type": "execute_result"
    }
   ],
   "source": [
    "# prepare nodes csv for gephi\n",
    "disease_nodes = disease.iloc[:,:2]\n",
    "disease_nodes.columns = ['Label', 'Id']\n",
    "disease_nodes.head()"
   ]
  },
  {
   "cell_type": "code",
   "execution_count": 17,
   "metadata": {
    "collapsed": true,
    "id": "qU_W_VOETGX-",
    "nbpresent": {
     "id": "124c9698-b1f3-4a9a-a561-a1e9c2734182"
    }
   },
   "outputs": [],
   "source": [
    "nodes = pd.concat([gene_nodes,chem_nodes,disease_nodes])\n",
    "nodes.to_csv(\"nodes.csv\",index=False)"
   ]
  },
  {
   "cell_type": "code",
   "execution_count": 18,
   "metadata": {
    "collapsed": false,
    "id": "miGGf1xyTGYB",
    "nbpresent": {
     "id": "1f9c35f1-6957-4dc3-bbf1-b7e6f60daf02"
    },
    "outputId": "8dc59747-990f-4098-ef46-5ab2febde527"
   },
   "outputs": [
    {
     "data": {
      "text/html": [
       "<div>\n",
       "<table border=\"1\" class=\"dataframe\">\n",
       "  <thead>\n",
       "    <tr style=\"text-align: right;\">\n",
       "      <th></th>\n",
       "      <th>GeneName</th>\n",
       "      <th>GeneSymbol</th>\n",
       "      <th>Id</th>\n",
       "      <th>Label</th>\n",
       "    </tr>\n",
       "  </thead>\n",
       "  <tbody>\n",
       "    <tr>\n",
       "      <th>1</th>\n",
       "      <td>DNA segment, 03B03F (Research Genetics)</td>\n",
       "      <td>03B03F</td>\n",
       "      <td>NaN</td>\n",
       "      <td>NaN</td>\n",
       "    </tr>\n",
       "    <tr>\n",
       "      <th>2</th>\n",
       "      <td>DNA segment, 03B03R (Research Genetics)</td>\n",
       "      <td>03B03R</td>\n",
       "      <td>NaN</td>\n",
       "      <td>NaN</td>\n",
       "    </tr>\n",
       "    <tr>\n",
       "      <th>3</th>\n",
       "      <td>DNA segment, 03.MMHAP34FRA.seq</td>\n",
       "      <td>03.MMHAP34FRA.SEQ</td>\n",
       "      <td>NaN</td>\n",
       "      <td>NaN</td>\n",
       "    </tr>\n",
       "    <tr>\n",
       "      <th>4</th>\n",
       "      <td>NaN</td>\n",
       "      <td>064YA</td>\n",
       "      <td>NaN</td>\n",
       "      <td>NaN</td>\n",
       "    </tr>\n",
       "    <tr>\n",
       "      <th>5</th>\n",
       "      <td>DNA segment, 102g4T7</td>\n",
       "      <td>102G4T7</td>\n",
       "      <td>NaN</td>\n",
       "      <td>NaN</td>\n",
       "    </tr>\n",
       "  </tbody>\n",
       "</table>\n",
       "</div>"
      ],
      "text/plain": [
       "                                  GeneName         GeneSymbol   Id Label\n",
       "1  DNA segment, 03B03F (Research Genetics)             03B03F  NaN   NaN\n",
       "2  DNA segment, 03B03R (Research Genetics)             03B03R  NaN   NaN\n",
       "3           DNA segment, 03.MMHAP34FRA.seq  03.MMHAP34FRA.SEQ  NaN   NaN\n",
       "4                                      NaN              064YA  NaN   NaN\n",
       "5                     DNA segment, 102g4T7            102G4T7  NaN   NaN"
      ]
     },
     "execution_count": 18,
     "metadata": {},
     "output_type": "execute_result"
    }
   ],
   "source": [
    "nodes.head()"
   ]
  },
  {
   "cell_type": "markdown",
   "metadata": {
    "id": "jZ4shB1oTGYG",
    "nbpresent": {
     "id": "5a29d8d8-56de-496a-965b-8eaf7a07c8d2"
    }
   },
   "source": [
    "### Prepare edge table"
   ]
  },
  {
   "cell_type": "code",
   "execution_count": null,
   "metadata": {
    "collapsed": false,
    "id": "wPOm6giRTGYH",
    "nbpresent": {
     "id": "331fd34b-1ea5-4e3e-b061-ee0752d3ce32"
    }
   },
   "outputs": [],
   "source": [
    "#Gene–disease associations\n",
    "# Fields:\n",
    "\n",
    "#     GeneSymbol\n",
    "#     GeneID (NCBI Gene identifier)\n",
    "#     DiseaseName\n",
    "#     DiseaseID (MeSH or OMIM identifier)\n",
    "#     DirectEvidence ('|'-delimited list)\n",
    "#     InferenceChemicalName\n",
    "#     InferenceScore\n",
    "#     OmimIDs ('|'-delimited list)\n",
    "#     PubMedIDs ('|'-delimited list)\n",
    "\n",
    "genedisease = pd.read_csv('CTD_genes_diseases.csv', header = 1,skiprows=range(1, 27))\n",
    "genedisease = genedisease[1:]\n",
    "#genedisease.drop(['casrn','pubmedids', 'Unnamed: 13','comentionedterms','organism','interaction','anatomyterms','inferencegenesymbols','organismid'], axis = 1, inplace = True)\n",
    "genedisease.head()"
   ]
  },
  {
   "cell_type": "code",
   "execution_count": 20,
   "metadata": {
    "collapsed": true,
    "id": "AE71H_TLTGYL",
    "nbpresent": {
     "id": "3d874034-50df-4bd4-bf4d-0e89e61e5c57"
    }
   },
   "outputs": [],
   "source": [
    "#Chemical–gene interaction\n",
    "#Fields:\n",
    "#ChemicalName\n",
    "#ChemicalID (MeSH identifier)\n",
    "#CasRN (CAS Registry Number, if available)\n",
    "#GeneSymbol\n",
    "#GeneID (NCBI Gene identifier)\n",
    "#GeneForms ('|'-delimited list)\n",
    "#Organism (scientific name)\n",
    "#OrganismID (NCBI Taxonomy identifier)\n",
    "#Interaction\n",
    "#InteractionActions ('|'-delimited list)\n",
    "#PubMedIDs ('|'-delimited list)\n",
    "\n",
    "chemgene = pd.read_csv('CTD_chem_gene_ixns.csv', skiprows=range(1, 29), \n",
    "                       names = ['ChemicalName',\n",
    "                               'ChemicalID',\n",
    "                               'CasRN',\n",
    "                               'GeneSymbol',\n",
    "                               'GeneID',\n",
    "                               'GeneForms',\n",
    "                               'Organism',\n",
    "                               'OrganismID',\n",
    "                               'Interaction',\n",
    "                               'InteractionActions',\n",
    "                               'PubMedIDs'])\n",
    "chemgene = chemgene[1:]\n",
    "chemgene.drop(['CasRN','PubMedIDs','Organism','OrganismID','Interaction','GeneForms'], axis = 1, inplace = True)"
   ]
  },
  {
   "cell_type": "code",
   "execution_count": 21,
   "metadata": {
    "collapsed": false,
    "id": "ClIwZl1bTGYO",
    "nbpresent": {
     "id": "05cb64ed-07bf-4617-aa17-432d4b39c978"
    },
    "outputId": "3ed7bf2b-29ae-40b0-b9db-03f9bb10c824"
   },
   "outputs": [
    {
     "data": {
      "text/html": [
       "<div>\n",
       "<table border=\"1\" class=\"dataframe\">\n",
       "  <thead>\n",
       "    <tr style=\"text-align: right;\">\n",
       "      <th></th>\n",
       "      <th>ChemicalName</th>\n",
       "      <th>ChemicalID</th>\n",
       "      <th>GeneSymbol</th>\n",
       "      <th>GeneID</th>\n",
       "      <th>InteractionActions</th>\n",
       "    </tr>\n",
       "  </thead>\n",
       "  <tbody>\n",
       "    <tr>\n",
       "      <th>1</th>\n",
       "      <td>10074-G5</td>\n",
       "      <td>C534883</td>\n",
       "      <td>AR</td>\n",
       "      <td>367.0</td>\n",
       "      <td>affects^reaction|increases^expression</td>\n",
       "    </tr>\n",
       "    <tr>\n",
       "      <th>2</th>\n",
       "      <td>10074-G5</td>\n",
       "      <td>C534883</td>\n",
       "      <td>AR</td>\n",
       "      <td>367.0</td>\n",
       "      <td>decreases^reaction|increases^expression</td>\n",
       "    </tr>\n",
       "    <tr>\n",
       "      <th>3</th>\n",
       "      <td>10074-G5</td>\n",
       "      <td>C534883</td>\n",
       "      <td>AR</td>\n",
       "      <td>367.0</td>\n",
       "      <td>decreases^expression</td>\n",
       "    </tr>\n",
       "    <tr>\n",
       "      <th>4</th>\n",
       "      <td>10074-G5</td>\n",
       "      <td>C534883</td>\n",
       "      <td>AR</td>\n",
       "      <td>367.0</td>\n",
       "      <td>decreases^expression</td>\n",
       "    </tr>\n",
       "    <tr>\n",
       "      <th>5</th>\n",
       "      <td>10074-G5</td>\n",
       "      <td>C534883</td>\n",
       "      <td>EPHB2</td>\n",
       "      <td>2048.0</td>\n",
       "      <td>decreases^reaction|increases^expression</td>\n",
       "    </tr>\n",
       "  </tbody>\n",
       "</table>\n",
       "</div>"
      ],
      "text/plain": [
       "  ChemicalName ChemicalID GeneSymbol  GeneID  \\\n",
       "1     10074-G5    C534883         AR   367.0   \n",
       "2     10074-G5    C534883         AR   367.0   \n",
       "3     10074-G5    C534883         AR   367.0   \n",
       "4     10074-G5    C534883         AR   367.0   \n",
       "5     10074-G5    C534883      EPHB2  2048.0   \n",
       "\n",
       "                        InteractionActions  \n",
       "1    affects^reaction|increases^expression  \n",
       "2  decreases^reaction|increases^expression  \n",
       "3                     decreases^expression  \n",
       "4                     decreases^expression  \n",
       "5  decreases^reaction|increases^expression  "
      ]
     },
     "execution_count": 21,
     "metadata": {},
     "output_type": "execute_result"
    }
   ],
   "source": [
    "chemgene.head()"
   ]
  },
  {
   "cell_type": "code",
   "execution_count": 22,
   "metadata": {
    "collapsed": false,
    "id": "z3grcfjpTGYS",
    "nbpresent": {
     "id": "f2f12180-b376-4206-aaca-da813b3249de"
    },
    "outputId": "7707ca11-4ee1-4b35-9871-e16b2b34f206"
   },
   "outputs": [
    {
     "data": {
      "text/plain": [
       "(2053659, 5)"
      ]
     },
     "execution_count": 22,
     "metadata": {},
     "output_type": "execute_result"
    }
   ],
   "source": [
    "chemgene.shape"
   ]
  },
  {
   "cell_type": "code",
   "execution_count": 23,
   "metadata": {
    "collapsed": false,
    "id": "uArXN3qXTGYW",
    "nbpresent": {
     "id": "5adb2363-7c25-41f6-b512-5822c7c02576"
    },
    "outputId": "75623d1a-5b02-46c3-b047-85a5e5af5a22"
   },
   "outputs": [
    {
     "data": {
      "text/plain": [
       "ChemicalName          0\n",
       "ChemicalID            0\n",
       "GeneSymbol            2\n",
       "GeneID                0\n",
       "InteractionActions    0\n",
       "dtype: int64"
      ]
     },
     "execution_count": 23,
     "metadata": {},
     "output_type": "execute_result"
    }
   ],
   "source": [
    "chemgene.isnull().sum()"
   ]
  },
  {
   "cell_type": "code",
   "execution_count": 24,
   "metadata": {
    "collapsed": true,
    "id": "S5VQUYYdTGYa",
    "nbpresent": {
     "id": "fdeddc75-3782-49a8-a318-523ea171cd19"
    }
   },
   "outputs": [],
   "source": [
    "chemgene = chemgene.drop_duplicates()"
   ]
  },
  {
   "cell_type": "code",
   "execution_count": 25,
   "metadata": {
    "collapsed": false,
    "id": "dVGt2_kBTGYd",
    "nbpresent": {
     "id": "b56f6b4d-65c2-45e2-ade1-a6768523b83b"
    },
    "outputId": "0b1c3bf5-f9c3-41aa-f309-322570f59125"
   },
   "outputs": [
    {
     "data": {
      "text/html": [
       "<div>\n",
       "<table border=\"1\" class=\"dataframe\">\n",
       "  <thead>\n",
       "    <tr style=\"text-align: right;\">\n",
       "      <th></th>\n",
       "      <th>Source</th>\n",
       "      <th>Target</th>\n",
       "      <th>InteractionActions</th>\n",
       "    </tr>\n",
       "  </thead>\n",
       "  <tbody>\n",
       "    <tr>\n",
       "      <th>1</th>\n",
       "      <td>C534883</td>\n",
       "      <td>367.0</td>\n",
       "      <td>affects^reaction|increases^expression</td>\n",
       "    </tr>\n",
       "    <tr>\n",
       "      <th>2</th>\n",
       "      <td>C534883</td>\n",
       "      <td>367.0</td>\n",
       "      <td>decreases^reaction|increases^expression</td>\n",
       "    </tr>\n",
       "    <tr>\n",
       "      <th>3</th>\n",
       "      <td>C534883</td>\n",
       "      <td>367.0</td>\n",
       "      <td>decreases^expression</td>\n",
       "    </tr>\n",
       "    <tr>\n",
       "      <th>5</th>\n",
       "      <td>C534883</td>\n",
       "      <td>2048.0</td>\n",
       "      <td>decreases^reaction|increases^expression</td>\n",
       "    </tr>\n",
       "    <tr>\n",
       "      <th>7</th>\n",
       "      <td>C534883</td>\n",
       "      <td>4149.0</td>\n",
       "      <td>affects^binding|affects^folding|decreases^acti...</td>\n",
       "    </tr>\n",
       "  </tbody>\n",
       "</table>\n",
       "</div>"
      ],
      "text/plain": [
       "    Source  Target                                 InteractionActions\n",
       "1  C534883   367.0              affects^reaction|increases^expression\n",
       "2  C534883   367.0            decreases^reaction|increases^expression\n",
       "3  C534883   367.0                               decreases^expression\n",
       "5  C534883  2048.0            decreases^reaction|increases^expression\n",
       "7  C534883  4149.0  affects^binding|affects^folding|decreases^acti..."
      ]
     },
     "execution_count": 25,
     "metadata": {},
     "output_type": "execute_result"
    }
   ],
   "source": [
    "# prepare as gephi edges\n",
    "chemgene_edge = chemgene[[\"ChemicalID\",\"GeneID\",\"InteractionActions\"]]\n",
    "chemgene_edge.columns = [\"Source\", \"Target\", \"InteractionActions\"]\n",
    "chemgene_edge.head()"
   ]
  },
  {
   "cell_type": "code",
   "execution_count": null,
   "metadata": {
    "collapsed": true,
    "id": "6P037QdTTGYg",
    "nbpresent": {
     "id": "4e13cdfa-ead8-4046-b81f-5af646fe61a5"
    }
   },
   "outputs": [],
   "source": [
    "chemgene_edge.to_csv(\"chemgene_edge.csv\", index=False)"
   ]
  },
  {
   "cell_type": "code",
   "execution_count": 26,
   "metadata": {
    "collapsed": false,
    "id": "hrG5YAAnTGYj",
    "nbpresent": {
     "id": "aff9f1f7-cbbf-4942-a13f-45216970dbaf"
    },
    "outputId": "998881f9-3e2c-4b46-faec-fca36215ed9f"
   },
   "outputs": [
    {
     "data": {
      "text/html": [
       "<div>\n",
       "<table border=\"1\" class=\"dataframe\">\n",
       "  <thead>\n",
       "    <tr style=\"text-align: right;\">\n",
       "      <th></th>\n",
       "      <th>ChemicalName</th>\n",
       "      <th>ChemicalID</th>\n",
       "      <th>CasRN</th>\n",
       "      <th>DiseaseName</th>\n",
       "      <th>DiseaseID</th>\n",
       "      <th>DirectEvidence</th>\n",
       "      <th>InferenceGeneSymbol</th>\n",
       "      <th>InferenceScore</th>\n",
       "      <th>OmimIDs</th>\n",
       "      <th>PubMedIDs</th>\n",
       "    </tr>\n",
       "  </thead>\n",
       "  <tbody>\n",
       "    <tr>\n",
       "      <th>1</th>\n",
       "      <td>06-Paris-LA-66 protocol</td>\n",
       "      <td>C046983</td>\n",
       "      <td>NaN</td>\n",
       "      <td>Precursor Cell Lymphoblastic Leukemia-Lymphoma</td>\n",
       "      <td>MESH:D054198</td>\n",
       "      <td>therapeutic</td>\n",
       "      <td>NaN</td>\n",
       "      <td>NaN</td>\n",
       "      <td>NaN</td>\n",
       "      <td>4519131</td>\n",
       "    </tr>\n",
       "    <tr>\n",
       "      <th>2</th>\n",
       "      <td>10074-G5</td>\n",
       "      <td>C534883</td>\n",
       "      <td>NaN</td>\n",
       "      <td>Adenocarcinoma</td>\n",
       "      <td>MESH:D000230</td>\n",
       "      <td>NaN</td>\n",
       "      <td>MYC</td>\n",
       "      <td>4.08</td>\n",
       "      <td>NaN</td>\n",
       "      <td>26432044</td>\n",
       "    </tr>\n",
       "    <tr>\n",
       "      <th>3</th>\n",
       "      <td>10074-G5</td>\n",
       "      <td>C534883</td>\n",
       "      <td>NaN</td>\n",
       "      <td>Adenocarcinoma of Lung</td>\n",
       "      <td>MESH:D000077192</td>\n",
       "      <td>NaN</td>\n",
       "      <td>MYC</td>\n",
       "      <td>4.32</td>\n",
       "      <td>NaN</td>\n",
       "      <td>26656844|27602772</td>\n",
       "    </tr>\n",
       "    <tr>\n",
       "      <th>4</th>\n",
       "      <td>10074-G5</td>\n",
       "      <td>C534883</td>\n",
       "      <td>NaN</td>\n",
       "      <td>Alopecia</td>\n",
       "      <td>MESH:D000505</td>\n",
       "      <td>NaN</td>\n",
       "      <td>AR</td>\n",
       "      <td>4.51</td>\n",
       "      <td>NaN</td>\n",
       "      <td>15902657</td>\n",
       "    </tr>\n",
       "    <tr>\n",
       "      <th>5</th>\n",
       "      <td>10074-G5</td>\n",
       "      <td>C534883</td>\n",
       "      <td>NaN</td>\n",
       "      <td>Androgen-Insensitivity Syndrome</td>\n",
       "      <td>MESH:D013734</td>\n",
       "      <td>NaN</td>\n",
       "      <td>AR</td>\n",
       "      <td>6.86</td>\n",
       "      <td>300068|312300</td>\n",
       "      <td>1303262|8281139</td>\n",
       "    </tr>\n",
       "  </tbody>\n",
       "</table>\n",
       "</div>"
      ],
      "text/plain": [
       "              ChemicalName ChemicalID CasRN  \\\n",
       "1  06-Paris-LA-66 protocol    C046983   NaN   \n",
       "2                 10074-G5    C534883   NaN   \n",
       "3                 10074-G5    C534883   NaN   \n",
       "4                 10074-G5    C534883   NaN   \n",
       "5                 10074-G5    C534883   NaN   \n",
       "\n",
       "                                      DiseaseName        DiseaseID  \\\n",
       "1  Precursor Cell Lymphoblastic Leukemia-Lymphoma     MESH:D054198   \n",
       "2                                  Adenocarcinoma     MESH:D000230   \n",
       "3                          Adenocarcinoma of Lung  MESH:D000077192   \n",
       "4                                        Alopecia     MESH:D000505   \n",
       "5                 Androgen-Insensitivity Syndrome     MESH:D013734   \n",
       "\n",
       "  DirectEvidence InferenceGeneSymbol  InferenceScore        OmimIDs  \\\n",
       "1    therapeutic                 NaN             NaN            NaN   \n",
       "2            NaN                 MYC            4.08            NaN   \n",
       "3            NaN                 MYC            4.32            NaN   \n",
       "4            NaN                  AR            4.51            NaN   \n",
       "5            NaN                  AR            6.86  300068|312300   \n",
       "\n",
       "           PubMedIDs  \n",
       "1            4519131  \n",
       "2           26432044  \n",
       "3  26656844|27602772  \n",
       "4           15902657  \n",
       "5    1303262|8281139  "
      ]
     },
     "execution_count": 26,
     "metadata": {},
     "output_type": "execute_result"
    }
   ],
   "source": [
    "#Chemical disease associations\n",
    "#Fields:\n",
    "#ChemicalName\n",
    "#ChemicalID (MeSH identifier)\n",
    "#CasRN (CAS Registry Number, if available)\n",
    "#DiseaseName\n",
    "#DiseaseID (MeSH or OMIM identifier)\n",
    "#DirectEvidence ('|'-delimited list)\n",
    "#InferenceGeneSymbol\n",
    "#InferenceScore\n",
    "#OmimIDs ('|'-delimited list)\n",
    "#PubMedIDs ('|'-delimited list)\n",
    "\n",
    "chemdisease = pd.read_csv('CTD_chemicals_diseases.csv',skiprows=range(1, 29), \n",
    "                       names = ['ChemicalName',\n",
    "                               'ChemicalID',\n",
    "                               'CasRN',\n",
    "                               'DiseaseName',\n",
    "                               'DiseaseID',\n",
    "                               'DirectEvidence',\n",
    "                               'InferenceGeneSymbol',\n",
    "                               'InferenceScore',\n",
    "                               'OmimIDs',\n",
    "                               'PubMedIDs'])\n",
    "chemdisease = chemdisease[1:]\n",
    "chemdisease.head()"
   ]
  },
  {
   "cell_type": "code",
   "execution_count": 27,
   "metadata": {
    "collapsed": false,
    "id": "PXazRPHETGYm",
    "nbpresent": {
     "id": "d9a7a3b9-b824-412f-8b5d-1983afce93ba"
    },
    "outputId": "ffa241f7-dd49-46be-c971-1b056e7896f3"
   },
   "outputs": [
    {
     "data": {
      "text/plain": [
       "ChemicalName                 0\n",
       "ChemicalID                   0\n",
       "CasRN                  2148292\n",
       "DiseaseName                  0\n",
       "DiseaseID                    0\n",
       "DirectEvidence         6968776\n",
       "InferenceGeneSymbol     100727\n",
       "InferenceScore          100727\n",
       "OmimIDs                6523668\n",
       "PubMedIDs               416707\n",
       "dtype: int64"
      ]
     },
     "execution_count": 27,
     "metadata": {},
     "output_type": "execute_result"
    }
   ],
   "source": [
    "chemdisease.isnull().sum()"
   ]
  },
  {
   "cell_type": "code",
   "execution_count": 28,
   "metadata": {
    "collapsed": true,
    "id": "eDx0YU5QTGYo",
    "nbpresent": {
     "id": "1f9c149a-964e-49f3-85c7-2abec8d2a95d"
    }
   },
   "outputs": [],
   "source": [
    "chemdisease = chemdisease.drop_duplicates()"
   ]
  },
  {
   "cell_type": "code",
   "execution_count": 29,
   "metadata": {
    "collapsed": false,
    "id": "qifF_6uMTGYs",
    "nbpresent": {
     "id": "b2812f59-5711-4155-bee5-17866d499a19"
    },
    "outputId": "e6d47191-ad30-4993-de09-b08574bb4ab8"
   },
   "outputs": [
    {
     "data": {
      "text/plain": [
       "(7069503, 10)"
      ]
     },
     "execution_count": 29,
     "metadata": {},
     "output_type": "execute_result"
    }
   ],
   "source": [
    "chemdisease.shape"
   ]
  },
  {
   "cell_type": "code",
   "execution_count": 30,
   "metadata": {
    "collapsed": false,
    "id": "m84r4ijKTGYu",
    "nbpresent": {
     "id": "407d7d86-4275-4c3b-b4d0-c3768d0397b0"
    },
    "outputId": "ed274cf2-d744-4410-b49b-a82325ad103a"
   },
   "outputs": [
    {
     "data": {
      "text/html": [
       "<div>\n",
       "<table border=\"1\" class=\"dataframe\">\n",
       "  <thead>\n",
       "    <tr style=\"text-align: right;\">\n",
       "      <th></th>\n",
       "      <th>Source</th>\n",
       "      <th>Target</th>\n",
       "      <th>DirectEvidence</th>\n",
       "    </tr>\n",
       "  </thead>\n",
       "  <tbody>\n",
       "    <tr>\n",
       "      <th>1</th>\n",
       "      <td>C046983</td>\n",
       "      <td>MESH:D054198</td>\n",
       "      <td>therapeutic</td>\n",
       "    </tr>\n",
       "    <tr>\n",
       "      <th>2</th>\n",
       "      <td>C534883</td>\n",
       "      <td>MESH:D000230</td>\n",
       "      <td>NaN</td>\n",
       "    </tr>\n",
       "    <tr>\n",
       "      <th>3</th>\n",
       "      <td>C534883</td>\n",
       "      <td>MESH:D000077192</td>\n",
       "      <td>NaN</td>\n",
       "    </tr>\n",
       "    <tr>\n",
       "      <th>4</th>\n",
       "      <td>C534883</td>\n",
       "      <td>MESH:D000505</td>\n",
       "      <td>NaN</td>\n",
       "    </tr>\n",
       "    <tr>\n",
       "      <th>5</th>\n",
       "      <td>C534883</td>\n",
       "      <td>MESH:D013734</td>\n",
       "      <td>NaN</td>\n",
       "    </tr>\n",
       "  </tbody>\n",
       "</table>\n",
       "</div>"
      ],
      "text/plain": [
       "    Source           Target DirectEvidence\n",
       "1  C046983     MESH:D054198    therapeutic\n",
       "2  C534883     MESH:D000230            NaN\n",
       "3  C534883  MESH:D000077192            NaN\n",
       "4  C534883     MESH:D000505            NaN\n",
       "5  C534883     MESH:D013734            NaN"
      ]
     },
     "execution_count": 30,
     "metadata": {},
     "output_type": "execute_result"
    }
   ],
   "source": [
    "# prepare as gephi edges\n",
    "chemdisease_edge = chemdisease[[\"ChemicalID\",\"DiseaseID\",\"DirectEvidence\"]]\n",
    "chemdisease_edge.columns = [\"Source\", \"Target\", \"DirectEvidence\"]\n",
    "chemdisease_edge.head()"
   ]
  },
  {
   "cell_type": "code",
   "execution_count": null,
   "metadata": {
    "collapsed": true,
    "id": "VyTrQqwlTGYy",
    "nbpresent": {
     "id": "237d1d5e-a1c7-4e87-826a-61da8026dc01"
    }
   },
   "outputs": [],
   "source": [
    "chemdisease_edge.to_csv(\"chemdisease_edge.csv\",index=False)"
   ]
  },
  {
   "cell_type": "markdown",
   "metadata": {
    "id": "ywm3pETMUGxw",
    "nbpresent": {
     "id": "673717b8-5524-4088-8f44-3c1d1346fdd6"
    }
   },
   "source": [
    "### To limit the size of database to fit computer memory, limit to Parkinson related genes"
   ]
  },
  {
   "cell_type": "code",
   "execution_count": 31,
   "metadata": {
    "collapsed": true,
    "id": "5VL0EevKTGY0",
    "nbpresent": {
     "id": "351c17bc-58f1-4f59-8079-f30a30cf4971"
    }
   },
   "outputs": [],
   "source": [
    "# download from CTD website with searching criteria\n",
    "parkinson_gene = pd.read_csv(\"CTD_D010300_genes_20201106165349.csv\")"
   ]
  },
  {
   "cell_type": "code",
   "execution_count": 32,
   "metadata": {
    "collapsed": false,
    "id": "jTiCnNVyTGcR",
    "nbpresent": {
     "id": "b841f51a-30ff-4375-95ac-0d676571d947"
    },
    "outputId": "c6447413-5895-4390-fed5-d648ede97364"
   },
   "outputs": [
    {
     "data": {
      "text/html": [
       "<div>\n",
       "<table border=\"1\" class=\"dataframe\">\n",
       "  <thead>\n",
       "    <tr style=\"text-align: right;\">\n",
       "      <th></th>\n",
       "      <th>Gene Symbol</th>\n",
       "      <th>Gene ID</th>\n",
       "      <th>Disease Name</th>\n",
       "      <th>Disease ID</th>\n",
       "      <th>Direct Evidence</th>\n",
       "      <th>Inference Network</th>\n",
       "      <th>Inference Score</th>\n",
       "      <th>Reference Count</th>\n",
       "    </tr>\n",
       "  </thead>\n",
       "  <tbody>\n",
       "    <tr>\n",
       "      <th>0</th>\n",
       "      <td>SOD2</td>\n",
       "      <td>6648</td>\n",
       "      <td>Parkinson Disease</td>\n",
       "      <td>MESH:D010300</td>\n",
       "      <td>marker/mechanism</td>\n",
       "      <td>1-Methyl-4-phenyl-1,2,3,6-tetrahydropyridine|1...</td>\n",
       "      <td>123.93</td>\n",
       "      <td>365</td>\n",
       "    </tr>\n",
       "    <tr>\n",
       "      <th>1</th>\n",
       "      <td>BDNF</td>\n",
       "      <td>627</td>\n",
       "      <td>Parkinson Disease</td>\n",
       "      <td>MESH:D010300</td>\n",
       "      <td>marker/mechanism</td>\n",
       "      <td>1-Methyl-4-phenyl-1,2,3,6-tetrahydropyridine|1...</td>\n",
       "      <td>121.54</td>\n",
       "      <td>167</td>\n",
       "    </tr>\n",
       "    <tr>\n",
       "      <th>2</th>\n",
       "      <td>SNCA</td>\n",
       "      <td>6622</td>\n",
       "      <td>Parkinson Disease</td>\n",
       "      <td>MESH:D010300</td>\n",
       "      <td>marker/mechanism</td>\n",
       "      <td>1,2,3,4-tetrahydro-1-(phenylmethyl)isoquinolin...</td>\n",
       "      <td>118.06</td>\n",
       "      <td>189</td>\n",
       "    </tr>\n",
       "    <tr>\n",
       "      <th>3</th>\n",
       "      <td>HMOX1</td>\n",
       "      <td>3162</td>\n",
       "      <td>Parkinson Disease</td>\n",
       "      <td>MESH:D010300</td>\n",
       "      <td>marker/mechanism</td>\n",
       "      <td>1-Methyl-4-phenyl-1,2,3,6-tetrahydropyridine|1...</td>\n",
       "      <td>111.51</td>\n",
       "      <td>161</td>\n",
       "    </tr>\n",
       "    <tr>\n",
       "      <th>4</th>\n",
       "      <td>GSTM1</td>\n",
       "      <td>2944</td>\n",
       "      <td>Parkinson Disease</td>\n",
       "      <td>MESH:D010300</td>\n",
       "      <td>marker/mechanism</td>\n",
       "      <td>1-Methyl-4-phenylpyridinium|Air Pollutants|Asp...</td>\n",
       "      <td>104.27</td>\n",
       "      <td>88</td>\n",
       "    </tr>\n",
       "  </tbody>\n",
       "</table>\n",
       "</div>"
      ],
      "text/plain": [
       "  Gene Symbol  Gene ID       Disease Name    Disease ID   Direct Evidence  \\\n",
       "0        SOD2     6648  Parkinson Disease  MESH:D010300  marker/mechanism   \n",
       "1        BDNF      627  Parkinson Disease  MESH:D010300  marker/mechanism   \n",
       "2        SNCA     6622  Parkinson Disease  MESH:D010300  marker/mechanism   \n",
       "3       HMOX1     3162  Parkinson Disease  MESH:D010300  marker/mechanism   \n",
       "4       GSTM1     2944  Parkinson Disease  MESH:D010300  marker/mechanism   \n",
       "\n",
       "                                   Inference Network  Inference Score  \\\n",
       "0  1-Methyl-4-phenyl-1,2,3,6-tetrahydropyridine|1...           123.93   \n",
       "1  1-Methyl-4-phenyl-1,2,3,6-tetrahydropyridine|1...           121.54   \n",
       "2  1,2,3,4-tetrahydro-1-(phenylmethyl)isoquinolin...           118.06   \n",
       "3  1-Methyl-4-phenyl-1,2,3,6-tetrahydropyridine|1...           111.51   \n",
       "4  1-Methyl-4-phenylpyridinium|Air Pollutants|Asp...           104.27   \n",
       "\n",
       "   Reference Count  \n",
       "0              365  \n",
       "1              167  \n",
       "2              189  \n",
       "3              161  \n",
       "4               88  "
      ]
     },
     "execution_count": 32,
     "metadata": {},
     "output_type": "execute_result"
    }
   ],
   "source": [
    "parkinson_gene.head()"
   ]
  },
  {
   "cell_type": "code",
   "execution_count": 33,
   "metadata": {
    "collapsed": false,
    "id": "VHiLgYRoTGcc",
    "nbpresent": {
     "id": "0777e13e-d354-426b-aca1-31b2510ba765"
    },
    "outputId": "0b6e8d21-ae9a-48db-9382-7905318a1b42"
   },
   "outputs": [
    {
     "data": {
      "text/plain": [
       "24135"
      ]
     },
     "execution_count": 33,
     "metadata": {},
     "output_type": "execute_result"
    }
   ],
   "source": [
    "len(parkinson_gene)"
   ]
  },
  {
   "cell_type": "code",
   "execution_count": 34,
   "metadata": {
    "collapsed": false,
    "id": "_1Yv7617TGcf",
    "nbpresent": {
     "id": "ce1c083c-f1cb-49fb-a9c5-a9de1802197d"
    },
    "outputId": "c018146d-eca9-4cba-8f28-43c31d13f02d"
   },
   "outputs": [
    {
     "data": {
      "text/plain": [
       "Gene Symbol              0\n",
       "Gene ID                  0\n",
       "Disease Name             0\n",
       "Disease ID               0\n",
       "Direct Evidence      24002\n",
       "Inference Network       45\n",
       "Inference Score         45\n",
       "Reference Count          0\n",
       "dtype: int64"
      ]
     },
     "execution_count": 34,
     "metadata": {},
     "output_type": "execute_result"
    }
   ],
   "source": [
    "parkinson_gene.isnull().sum()"
   ]
  },
  {
   "cell_type": "code",
   "execution_count": 35,
   "metadata": {
    "collapsed": false,
    "id": "9vTFhFFqTGch",
    "nbpresent": {
     "id": "2b234d37-8846-45e6-a39a-03760997f4b9"
    },
    "outputId": "4618cf90-fa1f-4405-f1d2-0067ee0cf0a6"
   },
   "outputs": [
    {
     "data": {
      "text/plain": [
       "23990"
      ]
     },
     "execution_count": 35,
     "metadata": {},
     "output_type": "execute_result"
    }
   ],
   "source": [
    "len(parkinson_gene['Gene ID'].unique())"
   ]
  },
  {
   "cell_type": "code",
   "execution_count": 36,
   "metadata": {
    "collapsed": true,
    "id": "dJuTUH0BTGcj",
    "nbpresent": {
     "id": "e7d1f23f-d6e8-4330-94a4-4c821e3df638"
    }
   },
   "outputs": [],
   "source": [
    "parkinson_gene = parkinson_gene.drop_duplicates(subset=['Gene ID'], keep='first')"
   ]
  },
  {
   "cell_type": "code",
   "execution_count": 37,
   "metadata": {
    "collapsed": false,
    "id": "y5TT-aLcTGcm",
    "nbpresent": {
     "id": "30a0c27c-7418-4dba-a81d-f7204a48932f"
    },
    "outputId": "d9625218-b67a-408f-b432-06a297c54065"
   },
   "outputs": [
    {
     "data": {
      "text/plain": [
       "(23990, 8)"
      ]
     },
     "execution_count": 37,
     "metadata": {},
     "output_type": "execute_result"
    }
   ],
   "source": [
    "parkinson_gene.shape"
   ]
  },
  {
   "cell_type": "markdown",
   "metadata": {
    "id": "iRablAFaVKiD",
    "nbpresent": {
     "id": "cd245cb6-d00b-422f-b18c-868b519c66b4"
    }
   },
   "source": [
    "#### Prepare parkinson_gene_edge"
   ]
  },
  {
   "cell_type": "code",
   "execution_count": 38,
   "metadata": {
    "collapsed": false,
    "id": "FgnBUAijTGcp",
    "nbpresent": {
     "id": "4dd23234-a207-4347-9b02-c88e0677953c"
    },
    "outputId": "a9e7c8d5-a4e7-4b02-c57c-77fd5e35af56"
   },
   "outputs": [
    {
     "data": {
      "text/html": [
       "<div>\n",
       "<table border=\"1\" class=\"dataframe\">\n",
       "  <thead>\n",
       "    <tr style=\"text-align: right;\">\n",
       "      <th></th>\n",
       "      <th>Source</th>\n",
       "      <th>Target</th>\n",
       "      <th>Direct Evidence</th>\n",
       "    </tr>\n",
       "  </thead>\n",
       "  <tbody>\n",
       "    <tr>\n",
       "      <th>0</th>\n",
       "      <td>6648</td>\n",
       "      <td>MESH:D010300</td>\n",
       "      <td>marker/mechanism</td>\n",
       "    </tr>\n",
       "    <tr>\n",
       "      <th>1</th>\n",
       "      <td>627</td>\n",
       "      <td>MESH:D010300</td>\n",
       "      <td>marker/mechanism</td>\n",
       "    </tr>\n",
       "    <tr>\n",
       "      <th>2</th>\n",
       "      <td>6622</td>\n",
       "      <td>MESH:D010300</td>\n",
       "      <td>marker/mechanism</td>\n",
       "    </tr>\n",
       "    <tr>\n",
       "      <th>3</th>\n",
       "      <td>3162</td>\n",
       "      <td>MESH:D010300</td>\n",
       "      <td>marker/mechanism</td>\n",
       "    </tr>\n",
       "    <tr>\n",
       "      <th>4</th>\n",
       "      <td>2944</td>\n",
       "      <td>MESH:D010300</td>\n",
       "      <td>marker/mechanism</td>\n",
       "    </tr>\n",
       "  </tbody>\n",
       "</table>\n",
       "</div>"
      ],
      "text/plain": [
       "   Source        Target   Direct Evidence\n",
       "0    6648  MESH:D010300  marker/mechanism\n",
       "1     627  MESH:D010300  marker/mechanism\n",
       "2    6622  MESH:D010300  marker/mechanism\n",
       "3    3162  MESH:D010300  marker/mechanism\n",
       "4    2944  MESH:D010300  marker/mechanism"
      ]
     },
     "execution_count": 38,
     "metadata": {},
     "output_type": "execute_result"
    }
   ],
   "source": [
    "\n",
    "parkinson_gene_edge = parkinson_gene[['Gene ID', 'Disease ID', 'Direct Evidence']]\n",
    "parkinson_gene_edge.columns = [\"Source\", \"Target\", \"Direct Evidence\"]\n",
    "parkinson_gene_edge.head()"
   ]
  },
  {
   "cell_type": "code",
   "execution_count": 39,
   "metadata": {
    "collapsed": false,
    "id": "u-QvX4V-TGcr",
    "nbpresent": {
     "id": "2ba37231-44c9-4010-9995-793fc8221bf1"
    },
    "outputId": "76318367-bf44-4258-9404-037fcce4590b"
   },
   "outputs": [
    {
     "data": {
      "text/html": [
       "<div>\n",
       "<table border=\"1\" class=\"dataframe\">\n",
       "  <thead>\n",
       "    <tr style=\"text-align: right;\">\n",
       "      <th></th>\n",
       "      <th>GeneSymbol</th>\n",
       "      <th>GeneName</th>\n",
       "      <th>GeneID</th>\n",
       "    </tr>\n",
       "  </thead>\n",
       "  <tbody>\n",
       "    <tr>\n",
       "      <th>1</th>\n",
       "      <td>03B03F</td>\n",
       "      <td>DNA segment, 03B03F (Research Genetics)</td>\n",
       "      <td>27777.0</td>\n",
       "    </tr>\n",
       "    <tr>\n",
       "      <th>2</th>\n",
       "      <td>03B03R</td>\n",
       "      <td>DNA segment, 03B03R (Research Genetics)</td>\n",
       "      <td>27778.0</td>\n",
       "    </tr>\n",
       "    <tr>\n",
       "      <th>3</th>\n",
       "      <td>03.MMHAP34FRA.SEQ</td>\n",
       "      <td>DNA segment, 03.MMHAP34FRA.seq</td>\n",
       "      <td>53288.0</td>\n",
       "    </tr>\n",
       "    <tr>\n",
       "      <th>4</th>\n",
       "      <td>064YA</td>\n",
       "      <td>NaN</td>\n",
       "      <td>5658107.0</td>\n",
       "    </tr>\n",
       "    <tr>\n",
       "      <th>5</th>\n",
       "      <td>102G4T7</td>\n",
       "      <td>DNA segment, 102g4T7</td>\n",
       "      <td>56573.0</td>\n",
       "    </tr>\n",
       "  </tbody>\n",
       "</table>\n",
       "</div>"
      ],
      "text/plain": [
       "          GeneSymbol                                 GeneName     GeneID\n",
       "1             03B03F  DNA segment, 03B03F (Research Genetics)    27777.0\n",
       "2             03B03R  DNA segment, 03B03R (Research Genetics)    27778.0\n",
       "3  03.MMHAP34FRA.SEQ           DNA segment, 03.MMHAP34FRA.seq    53288.0\n",
       "4              064YA                                      NaN  5658107.0\n",
       "5            102G4T7                     DNA segment, 102g4T7    56573.0"
      ]
     },
     "execution_count": 39,
     "metadata": {},
     "output_type": "execute_result"
    }
   ],
   "source": [
    "genes.head()"
   ]
  },
  {
   "cell_type": "code",
   "execution_count": null,
   "metadata": {
    "collapsed": true,
    "id": "HxUfAuckTGct",
    "nbpresent": {
     "id": "ead51ee1-1007-4481-825e-dedb51b9343c"
    }
   },
   "outputs": [],
   "source": [
    "parkinson_gene_edge.to_csv('parkinson_gene_edge.csv', index=False)"
   ]
  },
  {
   "cell_type": "code",
   "execution_count": 40,
   "metadata": {
    "collapsed": false,
    "id": "SRLqFyabTGcy",
    "nbpresent": {
     "id": "c18dd33f-d00b-4874-8e57-aa6a79621c50"
    },
    "outputId": "ffbc8ce4-74b0-4dd0-fb17-19ae31a687ca"
   },
   "outputs": [
    {
     "data": {
      "text/plain": [
       "array(['marker/mechanism', 'marker/mechanism|therapeutic', 'therapeutic',\n",
       "       nan], dtype=object)"
      ]
     },
     "execution_count": 40,
     "metadata": {},
     "output_type": "execute_result"
    }
   ],
   "source": [
    "parkinson_gene['Direct Evidence'].unique()"
   ]
  },
  {
   "cell_type": "markdown",
   "metadata": {
    "id": "gQMHUkdtVFvz",
    "nbpresent": {
     "id": "bc12610e-2f8b-4a78-924c-83ec614a3ee3"
    }
   },
   "source": [
    "#### Find chemicals related with genes (which has interaction with parkinsons)"
   ]
  },
  {
   "cell_type": "code",
   "execution_count": 41,
   "metadata": {
    "collapsed": true,
    "id": "iIL1_HssTGc9",
    "nbpresent": {
     "id": "7c93f033-f19f-434f-bb77-4aa15cc231c9"
    }
   },
   "outputs": [],
   "source": [
    "parkinson_gene_chem = parkinson_gene.join(chemgene, on='Gene ID', how='inner', sort=False)"
   ]
  },
  {
   "cell_type": "code",
   "execution_count": 42,
   "metadata": {
    "collapsed": false,
    "id": "qJPkIxVzTGc_",
    "nbpresent": {
     "id": "68a17cb9-bce5-4c39-8dce-f1696de4e0d8"
    },
    "outputId": "a968d2f5-a051-4826-ad72-0b789f5ca7fb"
   },
   "outputs": [
    {
     "data": {
      "text/plain": [
       "(19026, 13)"
      ]
     },
     "execution_count": 42,
     "metadata": {},
     "output_type": "execute_result"
    }
   ],
   "source": [
    "parkinson_gene_chem.shape"
   ]
  },
  {
   "cell_type": "code",
   "execution_count": 43,
   "metadata": {
    "collapsed": false,
    "id": "ZNXC9VI-TGdC",
    "nbpresent": {
     "id": "038430df-4397-440c-ba5b-85278dc01c1b"
    },
    "outputId": "c8518c98-9ea8-4bb2-8388-4e9c0ca23062"
   },
   "outputs": [
    {
     "data": {
      "text/html": [
       "<div>\n",
       "<table border=\"1\" class=\"dataframe\">\n",
       "  <thead>\n",
       "    <tr style=\"text-align: right;\">\n",
       "      <th></th>\n",
       "      <th>Gene Symbol</th>\n",
       "      <th>Gene ID</th>\n",
       "      <th>Disease Name</th>\n",
       "      <th>Disease ID</th>\n",
       "      <th>Direct Evidence</th>\n",
       "      <th>Inference Network</th>\n",
       "      <th>Inference Score</th>\n",
       "      <th>Reference Count</th>\n",
       "      <th>ChemicalName</th>\n",
       "      <th>ChemicalID</th>\n",
       "      <th>GeneSymbol</th>\n",
       "      <th>GeneID</th>\n",
       "      <th>InteractionActions</th>\n",
       "    </tr>\n",
       "  </thead>\n",
       "  <tbody>\n",
       "    <tr>\n",
       "      <th>0</th>\n",
       "      <td>SOD2</td>\n",
       "      <td>6648</td>\n",
       "      <td>Parkinson Disease</td>\n",
       "      <td>MESH:D010300</td>\n",
       "      <td>marker/mechanism</td>\n",
       "      <td>1-Methyl-4-phenyl-1,2,3,6-tetrahydropyridine|1...</td>\n",
       "      <td>123.93</td>\n",
       "      <td>365</td>\n",
       "      <td>1,2-Dimethylhydrazine</td>\n",
       "      <td>D019813</td>\n",
       "      <td>CASP4</td>\n",
       "      <td>837.0</td>\n",
       "      <td>affects^cotreatment|decreases^expression</td>\n",
       "    </tr>\n",
       "    <tr>\n",
       "      <th>2</th>\n",
       "      <td>SNCA</td>\n",
       "      <td>6622</td>\n",
       "      <td>Parkinson Disease</td>\n",
       "      <td>MESH:D010300</td>\n",
       "      <td>marker/mechanism</td>\n",
       "      <td>1,2,3,4-tetrahydro-1-(phenylmethyl)isoquinolin...</td>\n",
       "      <td>118.06</td>\n",
       "      <td>189</td>\n",
       "      <td>1,2-Dimethylhydrazine</td>\n",
       "      <td>D019813</td>\n",
       "      <td>CARD14</td>\n",
       "      <td>79092.0</td>\n",
       "      <td>increases^expression</td>\n",
       "    </tr>\n",
       "    <tr>\n",
       "      <th>3</th>\n",
       "      <td>HMOX1</td>\n",
       "      <td>3162</td>\n",
       "      <td>Parkinson Disease</td>\n",
       "      <td>MESH:D010300</td>\n",
       "      <td>marker/mechanism</td>\n",
       "      <td>1-Methyl-4-phenyl-1,2,3,6-tetrahydropyridine|1...</td>\n",
       "      <td>111.51</td>\n",
       "      <td>161</td>\n",
       "      <td>1,2,5,6-tetrabromocyclooctane</td>\n",
       "      <td>C540596</td>\n",
       "      <td>VCL</td>\n",
       "      <td>7414.0</td>\n",
       "      <td>decreases^expression</td>\n",
       "    </tr>\n",
       "    <tr>\n",
       "      <th>4</th>\n",
       "      <td>GSTM1</td>\n",
       "      <td>2944</td>\n",
       "      <td>Parkinson Disease</td>\n",
       "      <td>MESH:D010300</td>\n",
       "      <td>marker/mechanism</td>\n",
       "      <td>1-Methyl-4-phenylpyridinium|Air Pollutants|Asp...</td>\n",
       "      <td>104.27</td>\n",
       "      <td>88</td>\n",
       "      <td>1,2,5,6-dibenzanthracene</td>\n",
       "      <td>C026486</td>\n",
       "      <td>ZCCHC2</td>\n",
       "      <td>54877.0</td>\n",
       "      <td>increases^expression</td>\n",
       "    </tr>\n",
       "    <tr>\n",
       "      <th>5</th>\n",
       "      <td>TH</td>\n",
       "      <td>7054</td>\n",
       "      <td>Parkinson Disease</td>\n",
       "      <td>MESH:D010300</td>\n",
       "      <td>marker/mechanism</td>\n",
       "      <td>1-(3-(2-(1-benzothiophen-5-yl) ethoxy) propyl)...</td>\n",
       "      <td>102.60</td>\n",
       "      <td>347</td>\n",
       "      <td>1,2-Dimethylhydrazine</td>\n",
       "      <td>D019813</td>\n",
       "      <td>CEBPD</td>\n",
       "      <td>1052.0</td>\n",
       "      <td>affects^cotreatment|decreases^expression</td>\n",
       "    </tr>\n",
       "  </tbody>\n",
       "</table>\n",
       "</div>"
      ],
      "text/plain": [
       "  Gene Symbol  Gene ID       Disease Name    Disease ID   Direct Evidence  \\\n",
       "0        SOD2     6648  Parkinson Disease  MESH:D010300  marker/mechanism   \n",
       "2        SNCA     6622  Parkinson Disease  MESH:D010300  marker/mechanism   \n",
       "3       HMOX1     3162  Parkinson Disease  MESH:D010300  marker/mechanism   \n",
       "4       GSTM1     2944  Parkinson Disease  MESH:D010300  marker/mechanism   \n",
       "5          TH     7054  Parkinson Disease  MESH:D010300  marker/mechanism   \n",
       "\n",
       "                                   Inference Network  Inference Score  \\\n",
       "0  1-Methyl-4-phenyl-1,2,3,6-tetrahydropyridine|1...           123.93   \n",
       "2  1,2,3,4-tetrahydro-1-(phenylmethyl)isoquinolin...           118.06   \n",
       "3  1-Methyl-4-phenyl-1,2,3,6-tetrahydropyridine|1...           111.51   \n",
       "4  1-Methyl-4-phenylpyridinium|Air Pollutants|Asp...           104.27   \n",
       "5  1-(3-(2-(1-benzothiophen-5-yl) ethoxy) propyl)...           102.60   \n",
       "\n",
       "   Reference Count                   ChemicalName ChemicalID GeneSymbol  \\\n",
       "0              365          1,2-Dimethylhydrazine    D019813      CASP4   \n",
       "2              189          1,2-Dimethylhydrazine    D019813     CARD14   \n",
       "3              161  1,2,5,6-tetrabromocyclooctane    C540596        VCL   \n",
       "4               88       1,2,5,6-dibenzanthracene    C026486     ZCCHC2   \n",
       "5              347          1,2-Dimethylhydrazine    D019813      CEBPD   \n",
       "\n",
       "    GeneID                        InteractionActions  \n",
       "0    837.0  affects^cotreatment|decreases^expression  \n",
       "2  79092.0                      increases^expression  \n",
       "3   7414.0                      decreases^expression  \n",
       "4  54877.0                      increases^expression  \n",
       "5   1052.0  affects^cotreatment|decreases^expression  "
      ]
     },
     "execution_count": 43,
     "metadata": {},
     "output_type": "execute_result"
    }
   ],
   "source": [
    "parkinson_gene_chem.head()"
   ]
  },
  {
   "cell_type": "code",
   "execution_count": 44,
   "metadata": {
    "collapsed": false,
    "id": "qjGJJ2HsTGdD",
    "nbpresent": {
     "id": "d77e110f-f8b1-456a-9a2c-fbd4ad8e1b29"
    },
    "outputId": "3bcca1eb-3191-4b75-a5e0-462af7a8c486"
   },
   "outputs": [
    {
     "data": {
      "text/plain": [
       "19026"
      ]
     },
     "execution_count": 44,
     "metadata": {},
     "output_type": "execute_result"
    }
   ],
   "source": [
    "# how many genes related to parkinson\n",
    "len(parkinson_gene_chem['Gene ID'].unique())"
   ]
  },
  {
   "cell_type": "code",
   "execution_count": 45,
   "metadata": {
    "collapsed": false,
    "id": "lzAk1kf2TGdG",
    "nbpresent": {
     "id": "981275ca-98aa-4c54-8508-d136538a7e53"
    },
    "outputId": "ca1c4a8c-837e-4e2f-979b-753c645b7ee7"
   },
   "outputs": [
    {
     "data": {
      "text/plain": [
       "973"
      ]
     },
     "execution_count": 45,
     "metadata": {},
     "output_type": "execute_result"
    }
   ],
   "source": [
    "# how many chemicals  \n",
    "len(parkinson_gene_chem['ChemicalID'].unique())"
   ]
  },
  {
   "cell_type": "code",
   "execution_count": 46,
   "metadata": {
    "collapsed": true,
    "id": "eSLum26QTGdI",
    "nbpresent": {
     "id": "aa32cb73-013d-4928-976e-cf92295f7fac"
    }
   },
   "outputs": [],
   "source": [
    "parkinsonChem_nodes = parkinson_gene_chem[['ChemicalName','ChemicalID']]\n",
    "parkinsonChem_nodes.columns = ['Label', 'Id']\n",
    "parkinsonChem_nodes.to_csv('parkinsonChem_nodes.csv',index=False)"
   ]
  },
  {
   "cell_type": "code",
   "execution_count": 47,
   "metadata": {
    "collapsed": true,
    "id": "4myuBB8wTGdK",
    "nbpresent": {
     "id": "4ebf668c-23ff-4051-b9d8-d23e7aef0d40"
    }
   },
   "outputs": [],
   "source": [
    "parkinsonGene_nodes = parkinson_gene_chem[['GeneSymbol','GeneID']]\n",
    "parkinsonGene_nodes.columns = ['Label', 'Id']\n",
    "parkinsonGene_nodes.to_csv('parkinsonGene_nodes.csv',index=False)"
   ]
  },
  {
   "cell_type": "code",
   "execution_count": 48,
   "metadata": {
    "collapsed": true,
    "id": "VaWsWnfbTGdM",
    "nbpresent": {
     "id": "d57fe210-39d2-47f5-b4a8-c08bc8aefaaf"
    }
   },
   "outputs": [],
   "source": [
    "parkinsonGeneChem_edges = parkinson_gene_chem[['GeneID','ChemicalID','InteractionActions']]\n",
    "parkinsonGeneChem_edges.columns = ['Source', 'Target', 'InteractionActions']\n",
    "parkinsonGeneChem_edges.to_csv('parkinsonGeneChem_edges.csv', index=False)"
   ]
  },
  {
   "cell_type": "markdown",
   "metadata": {
    "id": "0CQKQ0lvVkha",
    "nbpresent": {
     "id": "afb12e4a-51d0-491a-9d18-ad4d4888c6a8"
    }
   },
   "source": [
    "### Collect drug data from drugbank\n",
    "\n"
   ]
  },
  {
   "cell_type": "code",
   "execution_count": 49,
   "metadata": {
    "collapsed": true,
    "id": "vGRFqqw-Vt8x",
    "nbpresent": {
     "id": "87d6577e-e49c-4a99-87fc-f9935d4201d7"
    }
   },
   "outputs": [],
   "source": [
    "drugbank = pd.read_csv(\"drugBank_v515_targetExtracted.csv\")"
   ]
  },
  {
   "cell_type": "code",
   "execution_count": 50,
   "metadata": {
    "collapsed": false,
    "id": "dxK63LBrVw60",
    "nbpresent": {
     "id": "84d12a87-fbf7-4f84-adba-4d50e83a6bda"
    }
   },
   "outputs": [
    {
     "data": {
      "text/html": [
       "<div>\n",
       "<table border=\"1\" class=\"dataframe\">\n",
       "  <thead>\n",
       "    <tr style=\"text-align: right;\">\n",
       "      <th></th>\n",
       "      <th>Unnamed: 0</th>\n",
       "      <th>dg_id</th>\n",
       "      <th>dg_name</th>\n",
       "      <th>dg_synm</th>\n",
       "      <th>dg_kingdom</th>\n",
       "      <th>dg_superclass</th>\n",
       "      <th>dg_interactions</th>\n",
       "      <th>dg_ext_id</th>\n",
       "      <th>dg_pathways</th>\n",
       "      <th>target_name</th>\n",
       "      <th>target_uniprot</th>\n",
       "      <th>target_gene_name</th>\n",
       "      <th>action</th>\n",
       "      <th>cell_loc</th>\n",
       "    </tr>\n",
       "  </thead>\n",
       "  <tbody>\n",
       "    <tr>\n",
       "      <th>0</th>\n",
       "      <td>0</td>\n",
       "      <td>DB00001</td>\n",
       "      <td>Lepirudin</td>\n",
       "      <td>Hirudin variant-1;Lepirudin recombinant</td>\n",
       "      <td>Organic Compounds</td>\n",
       "      <td>Organic Acids</td>\n",
       "      <td>DB06605;DB06695;DB01254;DB01609;DB01586;DB0212...</td>\n",
       "      <td>Drugs Product Database (DPD):11916;PubChem Sub...</td>\n",
       "      <td>Lepirudin Action Pathway</td>\n",
       "      <td>Prothrombin</td>\n",
       "      <td>P00734</td>\n",
       "      <td>F2</td>\n",
       "      <td>inhibitor</td>\n",
       "      <td>Secreted</td>\n",
       "    </tr>\n",
       "    <tr>\n",
       "      <th>1</th>\n",
       "      <td>1</td>\n",
       "      <td>DB00002</td>\n",
       "      <td>Cetuximab</td>\n",
       "      <td>Cetuximab;Cétuximab;Cetuximabum</td>\n",
       "      <td>Organic Compounds</td>\n",
       "      <td>Organic Acids</td>\n",
       "      <td>DB00012;DB00016;DB08894;DB09107;DB00255;DB0026...</td>\n",
       "      <td>Drugs Product Database (DPD):13175;PubChem Sub...</td>\n",
       "      <td>Cetuximab Action Pathway</td>\n",
       "      <td>Epidermal growth factor receptor</td>\n",
       "      <td>P00533</td>\n",
       "      <td>EGFR</td>\n",
       "      <td>antagonist</td>\n",
       "      <td>Cell membrane</td>\n",
       "    </tr>\n",
       "    <tr>\n",
       "      <th>2</th>\n",
       "      <td>2</td>\n",
       "      <td>DB00002</td>\n",
       "      <td>Cetuximab</td>\n",
       "      <td>Cetuximab;Cétuximab;Cetuximabum</td>\n",
       "      <td>Organic Compounds</td>\n",
       "      <td>Organic Acids</td>\n",
       "      <td>DB00012;DB00016;DB08894;DB09107;DB00255;DB0026...</td>\n",
       "      <td>Drugs Product Database (DPD):13175;PubChem Sub...</td>\n",
       "      <td>Cetuximab Action Pathway</td>\n",
       "      <td>Low affinity immunoglobulin gamma Fc region re...</td>\n",
       "      <td>O75015</td>\n",
       "      <td>FCGR3B</td>\n",
       "      <td>NaN</td>\n",
       "      <td>Cell membrane</td>\n",
       "    </tr>\n",
       "    <tr>\n",
       "      <th>3</th>\n",
       "      <td>3</td>\n",
       "      <td>DB00002</td>\n",
       "      <td>Cetuximab</td>\n",
       "      <td>Cetuximab;Cétuximab;Cetuximabum</td>\n",
       "      <td>Organic Compounds</td>\n",
       "      <td>Organic Acids</td>\n",
       "      <td>DB00012;DB00016;DB08894;DB09107;DB00255;DB0026...</td>\n",
       "      <td>Drugs Product Database (DPD):13175;PubChem Sub...</td>\n",
       "      <td>Cetuximab Action Pathway</td>\n",
       "      <td>Complement C1q subcomponent subunit A</td>\n",
       "      <td>P02745</td>\n",
       "      <td>C1QA</td>\n",
       "      <td>NaN</td>\n",
       "      <td>Secreted</td>\n",
       "    </tr>\n",
       "    <tr>\n",
       "      <th>4</th>\n",
       "      <td>4</td>\n",
       "      <td>DB00002</td>\n",
       "      <td>Cetuximab</td>\n",
       "      <td>Cetuximab;Cétuximab;Cetuximabum</td>\n",
       "      <td>Organic Compounds</td>\n",
       "      <td>Organic Acids</td>\n",
       "      <td>DB00012;DB00016;DB08894;DB09107;DB00255;DB0026...</td>\n",
       "      <td>Drugs Product Database (DPD):13175;PubChem Sub...</td>\n",
       "      <td>Cetuximab Action Pathway</td>\n",
       "      <td>Complement C1q subcomponent subunit B</td>\n",
       "      <td>P02746</td>\n",
       "      <td>C1QB</td>\n",
       "      <td>NaN</td>\n",
       "      <td>Secreted</td>\n",
       "    </tr>\n",
       "  </tbody>\n",
       "</table>\n",
       "</div>"
      ],
      "text/plain": [
       "   Unnamed: 0    dg_id    dg_name                                  dg_synm  \\\n",
       "0           0  DB00001  Lepirudin  Hirudin variant-1;Lepirudin recombinant   \n",
       "1           1  DB00002  Cetuximab          Cetuximab;Cétuximab;Cetuximabum   \n",
       "2           2  DB00002  Cetuximab          Cetuximab;Cétuximab;Cetuximabum   \n",
       "3           3  DB00002  Cetuximab          Cetuximab;Cétuximab;Cetuximabum   \n",
       "4           4  DB00002  Cetuximab          Cetuximab;Cétuximab;Cetuximabum   \n",
       "\n",
       "          dg_kingdom  dg_superclass  \\\n",
       "0  Organic Compounds  Organic Acids   \n",
       "1  Organic Compounds  Organic Acids   \n",
       "2  Organic Compounds  Organic Acids   \n",
       "3  Organic Compounds  Organic Acids   \n",
       "4  Organic Compounds  Organic Acids   \n",
       "\n",
       "                                     dg_interactions  \\\n",
       "0  DB06605;DB06695;DB01254;DB01609;DB01586;DB0212...   \n",
       "1  DB00012;DB00016;DB08894;DB09107;DB00255;DB0026...   \n",
       "2  DB00012;DB00016;DB08894;DB09107;DB00255;DB0026...   \n",
       "3  DB00012;DB00016;DB08894;DB09107;DB00255;DB0026...   \n",
       "4  DB00012;DB00016;DB08894;DB09107;DB00255;DB0026...   \n",
       "\n",
       "                                           dg_ext_id  \\\n",
       "0  Drugs Product Database (DPD):11916;PubChem Sub...   \n",
       "1  Drugs Product Database (DPD):13175;PubChem Sub...   \n",
       "2  Drugs Product Database (DPD):13175;PubChem Sub...   \n",
       "3  Drugs Product Database (DPD):13175;PubChem Sub...   \n",
       "4  Drugs Product Database (DPD):13175;PubChem Sub...   \n",
       "\n",
       "                dg_pathways  \\\n",
       "0  Lepirudin Action Pathway   \n",
       "1  Cetuximab Action Pathway   \n",
       "2  Cetuximab Action Pathway   \n",
       "3  Cetuximab Action Pathway   \n",
       "4  Cetuximab Action Pathway   \n",
       "\n",
       "                                         target_name target_uniprot  \\\n",
       "0                                        Prothrombin         P00734   \n",
       "1                   Epidermal growth factor receptor         P00533   \n",
       "2  Low affinity immunoglobulin gamma Fc region re...         O75015   \n",
       "3              Complement C1q subcomponent subunit A         P02745   \n",
       "4              Complement C1q subcomponent subunit B         P02746   \n",
       "\n",
       "  target_gene_name      action       cell_loc  \n",
       "0               F2   inhibitor       Secreted  \n",
       "1             EGFR  antagonist  Cell membrane  \n",
       "2           FCGR3B         NaN  Cell membrane  \n",
       "3             C1QA         NaN       Secreted  \n",
       "4             C1QB         NaN       Secreted  "
      ]
     },
     "execution_count": 50,
     "metadata": {},
     "output_type": "execute_result"
    }
   ],
   "source": [
    "drugbank.head()"
   ]
  },
  {
   "cell_type": "code",
   "execution_count": 51,
   "metadata": {
    "collapsed": false,
    "id": "b7H-qRUvVw93",
    "nbpresent": {
     "id": "693b2191-0a8d-44cb-92dd-9658bca20eca"
    }
   },
   "outputs": [
    {
     "data": {
      "text/plain": [
       "14441"
      ]
     },
     "execution_count": 51,
     "metadata": {},
     "output_type": "execute_result"
    }
   ],
   "source": [
    "len(drugbank['target_gene_name'])"
   ]
  },
  {
   "cell_type": "code",
   "execution_count": 52,
   "metadata": {
    "collapsed": true,
    "id": "wIw3kqR6VxAY",
    "nbpresent": {
     "id": "cdf44414-85bd-44f2-b8ee-d5d78b8d7932"
    }
   },
   "outputs": [],
   "source": [
    "a = set(drugbank['target_gene_name'])"
   ]
  },
  {
   "cell_type": "code",
   "execution_count": 55,
   "metadata": {
    "collapsed": false,
    "id": "ztHKifVBVxFY",
    "nbpresent": {
     "id": "c3baeca4-5376-41f7-b395-9b6a67f8849c"
    }
   },
   "outputs": [],
   "source": [
    "b = set(genes['GeneSymbol'])"
   ]
  },
  {
   "cell_type": "code",
   "execution_count": 56,
   "metadata": {
    "collapsed": false,
    "id": "SzCC3e9mVxIS",
    "nbpresent": {
     "id": "14132d84-92b6-4cc9-9f92-2d75345c6a93"
    }
   },
   "outputs": [
    {
     "data": {
      "text/plain": [
       "2733"
      ]
     },
     "execution_count": 56,
     "metadata": {},
     "output_type": "execute_result"
    }
   ],
   "source": [
    "len(a&b)"
   ]
  },
  {
   "cell_type": "code",
   "execution_count": 57,
   "metadata": {
    "collapsed": true,
    "id": "g6wwYSYBVxDH",
    "nbpresent": {
     "id": "d3716fda-71b5-4b74-bfa9-4f84103b2091"
    }
   },
   "outputs": [],
   "source": [
    "commonn_gene = (a&b)"
   ]
  },
  {
   "cell_type": "code",
   "execution_count": 58,
   "metadata": {
    "collapsed": false,
    "id": "WIWMpywJV7Ru",
    "nbpresent": {
     "id": "943314ce-365a-4143-b271-a3858af5e500"
    }
   },
   "outputs": [
    {
     "data": {
      "text/html": [
       "<div>\n",
       "<table border=\"1\" class=\"dataframe\">\n",
       "  <thead>\n",
       "    <tr style=\"text-align: right;\">\n",
       "      <th></th>\n",
       "      <th>Unnamed: 0</th>\n",
       "      <th>dg_id</th>\n",
       "      <th>dg_name</th>\n",
       "      <th>dg_synm</th>\n",
       "      <th>dg_kingdom</th>\n",
       "      <th>dg_superclass</th>\n",
       "      <th>dg_interactions</th>\n",
       "      <th>dg_ext_id</th>\n",
       "      <th>dg_pathways</th>\n",
       "      <th>target_name</th>\n",
       "      <th>target_uniprot</th>\n",
       "      <th>target_gene_name</th>\n",
       "      <th>action</th>\n",
       "      <th>cell_loc</th>\n",
       "    </tr>\n",
       "  </thead>\n",
       "  <tbody>\n",
       "    <tr>\n",
       "      <th>0</th>\n",
       "      <td>0</td>\n",
       "      <td>DB00001</td>\n",
       "      <td>Lepirudin</td>\n",
       "      <td>Hirudin variant-1;Lepirudin recombinant</td>\n",
       "      <td>Organic Compounds</td>\n",
       "      <td>Organic Acids</td>\n",
       "      <td>DB06605;DB06695;DB01254;DB01609;DB01586;DB0212...</td>\n",
       "      <td>Drugs Product Database (DPD):11916;PubChem Sub...</td>\n",
       "      <td>Lepirudin Action Pathway</td>\n",
       "      <td>Prothrombin</td>\n",
       "      <td>P00734</td>\n",
       "      <td>F2</td>\n",
       "      <td>inhibitor</td>\n",
       "      <td>Secreted</td>\n",
       "    </tr>\n",
       "    <tr>\n",
       "      <th>1</th>\n",
       "      <td>1</td>\n",
       "      <td>DB00002</td>\n",
       "      <td>Cetuximab</td>\n",
       "      <td>Cetuximab;Cétuximab;Cetuximabum</td>\n",
       "      <td>Organic Compounds</td>\n",
       "      <td>Organic Acids</td>\n",
       "      <td>DB00012;DB00016;DB08894;DB09107;DB00255;DB0026...</td>\n",
       "      <td>Drugs Product Database (DPD):13175;PubChem Sub...</td>\n",
       "      <td>Cetuximab Action Pathway</td>\n",
       "      <td>Epidermal growth factor receptor</td>\n",
       "      <td>P00533</td>\n",
       "      <td>EGFR</td>\n",
       "      <td>antagonist</td>\n",
       "      <td>Cell membrane</td>\n",
       "    </tr>\n",
       "    <tr>\n",
       "      <th>2</th>\n",
       "      <td>2</td>\n",
       "      <td>DB00002</td>\n",
       "      <td>Cetuximab</td>\n",
       "      <td>Cetuximab;Cétuximab;Cetuximabum</td>\n",
       "      <td>Organic Compounds</td>\n",
       "      <td>Organic Acids</td>\n",
       "      <td>DB00012;DB00016;DB08894;DB09107;DB00255;DB0026...</td>\n",
       "      <td>Drugs Product Database (DPD):13175;PubChem Sub...</td>\n",
       "      <td>Cetuximab Action Pathway</td>\n",
       "      <td>Low affinity immunoglobulin gamma Fc region re...</td>\n",
       "      <td>O75015</td>\n",
       "      <td>FCGR3B</td>\n",
       "      <td>NaN</td>\n",
       "      <td>Cell membrane</td>\n",
       "    </tr>\n",
       "    <tr>\n",
       "      <th>3</th>\n",
       "      <td>3</td>\n",
       "      <td>DB00002</td>\n",
       "      <td>Cetuximab</td>\n",
       "      <td>Cetuximab;Cétuximab;Cetuximabum</td>\n",
       "      <td>Organic Compounds</td>\n",
       "      <td>Organic Acids</td>\n",
       "      <td>DB00012;DB00016;DB08894;DB09107;DB00255;DB0026...</td>\n",
       "      <td>Drugs Product Database (DPD):13175;PubChem Sub...</td>\n",
       "      <td>Cetuximab Action Pathway</td>\n",
       "      <td>Complement C1q subcomponent subunit A</td>\n",
       "      <td>P02745</td>\n",
       "      <td>C1QA</td>\n",
       "      <td>NaN</td>\n",
       "      <td>Secreted</td>\n",
       "    </tr>\n",
       "    <tr>\n",
       "      <th>4</th>\n",
       "      <td>4</td>\n",
       "      <td>DB00002</td>\n",
       "      <td>Cetuximab</td>\n",
       "      <td>Cetuximab;Cétuximab;Cetuximabum</td>\n",
       "      <td>Organic Compounds</td>\n",
       "      <td>Organic Acids</td>\n",
       "      <td>DB00012;DB00016;DB08894;DB09107;DB00255;DB0026...</td>\n",
       "      <td>Drugs Product Database (DPD):13175;PubChem Sub...</td>\n",
       "      <td>Cetuximab Action Pathway</td>\n",
       "      <td>Complement C1q subcomponent subunit B</td>\n",
       "      <td>P02746</td>\n",
       "      <td>C1QB</td>\n",
       "      <td>NaN</td>\n",
       "      <td>Secreted</td>\n",
       "    </tr>\n",
       "  </tbody>\n",
       "</table>\n",
       "</div>"
      ],
      "text/plain": [
       "   Unnamed: 0    dg_id    dg_name                                  dg_synm  \\\n",
       "0           0  DB00001  Lepirudin  Hirudin variant-1;Lepirudin recombinant   \n",
       "1           1  DB00002  Cetuximab          Cetuximab;Cétuximab;Cetuximabum   \n",
       "2           2  DB00002  Cetuximab          Cetuximab;Cétuximab;Cetuximabum   \n",
       "3           3  DB00002  Cetuximab          Cetuximab;Cétuximab;Cetuximabum   \n",
       "4           4  DB00002  Cetuximab          Cetuximab;Cétuximab;Cetuximabum   \n",
       "\n",
       "          dg_kingdom  dg_superclass  \\\n",
       "0  Organic Compounds  Organic Acids   \n",
       "1  Organic Compounds  Organic Acids   \n",
       "2  Organic Compounds  Organic Acids   \n",
       "3  Organic Compounds  Organic Acids   \n",
       "4  Organic Compounds  Organic Acids   \n",
       "\n",
       "                                     dg_interactions  \\\n",
       "0  DB06605;DB06695;DB01254;DB01609;DB01586;DB0212...   \n",
       "1  DB00012;DB00016;DB08894;DB09107;DB00255;DB0026...   \n",
       "2  DB00012;DB00016;DB08894;DB09107;DB00255;DB0026...   \n",
       "3  DB00012;DB00016;DB08894;DB09107;DB00255;DB0026...   \n",
       "4  DB00012;DB00016;DB08894;DB09107;DB00255;DB0026...   \n",
       "\n",
       "                                           dg_ext_id  \\\n",
       "0  Drugs Product Database (DPD):11916;PubChem Sub...   \n",
       "1  Drugs Product Database (DPD):13175;PubChem Sub...   \n",
       "2  Drugs Product Database (DPD):13175;PubChem Sub...   \n",
       "3  Drugs Product Database (DPD):13175;PubChem Sub...   \n",
       "4  Drugs Product Database (DPD):13175;PubChem Sub...   \n",
       "\n",
       "                dg_pathways  \\\n",
       "0  Lepirudin Action Pathway   \n",
       "1  Cetuximab Action Pathway   \n",
       "2  Cetuximab Action Pathway   \n",
       "3  Cetuximab Action Pathway   \n",
       "4  Cetuximab Action Pathway   \n",
       "\n",
       "                                         target_name target_uniprot  \\\n",
       "0                                        Prothrombin         P00734   \n",
       "1                   Epidermal growth factor receptor         P00533   \n",
       "2  Low affinity immunoglobulin gamma Fc region re...         O75015   \n",
       "3              Complement C1q subcomponent subunit A         P02745   \n",
       "4              Complement C1q subcomponent subunit B         P02746   \n",
       "\n",
       "  target_gene_name      action       cell_loc  \n",
       "0               F2   inhibitor       Secreted  \n",
       "1             EGFR  antagonist  Cell membrane  \n",
       "2           FCGR3B         NaN  Cell membrane  \n",
       "3             C1QA         NaN       Secreted  \n",
       "4             C1QB         NaN       Secreted  "
      ]
     },
     "execution_count": 58,
     "metadata": {},
     "output_type": "execute_result"
    }
   ],
   "source": [
    "# find all gene data which are also recorded in drugbank\n",
    "drug_common_gene = drugbank[drugbank['target_gene_name'].isin(commonn_gene)]\n",
    "drug_common_gene.head()"
   ]
  },
  {
   "cell_type": "code",
   "execution_count": 59,
   "metadata": {
    "collapsed": false,
    "id": "0hqV3J89V7W3",
    "nbpresent": {
     "id": "eb693e17-91ae-488e-8c24-1db040936c82"
    }
   },
   "outputs": [
    {
     "name": "stderr",
     "output_type": "stream",
     "text": [
      "/N/soft/rhel7/anaconda/python3.6/4.3.1/lib/python3.6/site-packages/ipykernel_launcher.py:3: SettingWithCopyWarning: \n",
      "A value is trying to be set on a copy of a slice from a DataFrame.\n",
      "Try using .loc[row_indexer,col_indexer] = value instead\n",
      "\n",
      "See the caveats in the documentation: http://pandas.pydata.org/pandas-docs/stable/indexing.html#indexing-view-versus-copy\n",
      "  This is separate from the ipykernel package so we can avoid doing imports until\n"
     ]
    }
   ],
   "source": [
    "drug_common_gene_nodes = drug_common_gene[['dg_id','dg_name']]\n",
    "drug_common_gene_nodes.columns = ['Id','Label']\n",
    "drug_common_gene_nodes['Type'] = 'Drug'\n",
    "drug_common_gene_nodes.to_csv('drug_common_gene_nodes.csv',index=False)"
   ]
  },
  {
   "cell_type": "code",
   "execution_count": 62,
   "metadata": {
    "collapsed": false,
    "id": "QwFNIZ4wV7cZ",
    "nbpresent": {
     "id": "eef2a447-b171-4bf7-ac6c-ab395450f0b8"
    }
   },
   "outputs": [
    {
     "name": "stderr",
     "output_type": "stream",
     "text": [
      "/N/soft/rhel7/anaconda/python3.6/4.3.1/lib/python3.6/site-packages/ipykernel_launcher.py:3: SettingWithCopyWarning: \n",
      "A value is trying to be set on a copy of a slice from a DataFrame.\n",
      "Try using .loc[row_indexer,col_indexer] = value instead\n",
      "\n",
      "See the caveats in the documentation: http://pandas.pydata.org/pandas-docs/stable/indexing.html#indexing-view-versus-copy\n",
      "  This is separate from the ipykernel package so we can avoid doing imports until\n"
     ]
    }
   ],
   "source": [
    "drug_common_gene_edges = drug_common_gene[['dg_id','target_gene_name']]\n",
    "drug_common_gene_edges.columns=['Source','Target']\n",
    "drug_common_gene_edges['Interaction'] = 'Treat'\n",
    "drug_common_gene_edges.columns=['Source','GeneSymbol','Interaction']\n",
    "drug_common_gene_edges = drug_common_gene_edges.merge(genes,on='GeneSymbol',how='left')\n",
    "drug_common_gene_edges.columns = ['Source','GeneSymbol','Interaction', 'GeneName', 'Target']\n",
    "drug_common_gene_edges.to_csv('drug_common_gene_edges.csv', index=False)"
   ]
  },
  {
   "cell_type": "code",
   "execution_count": 63,
   "metadata": {
    "collapsed": false,
    "id": "Qat5bKw-V7Z7",
    "nbpresent": {
     "id": "6058b1af-fb76-4a1d-af8a-c6ce670422fe"
    }
   },
   "outputs": [
    {
     "data": {
      "text/html": [
       "<div>\n",
       "<table border=\"1\" class=\"dataframe\">\n",
       "  <thead>\n",
       "    <tr style=\"text-align: right;\">\n",
       "      <th></th>\n",
       "      <th>Source</th>\n",
       "      <th>GeneSymbol</th>\n",
       "      <th>Interaction</th>\n",
       "      <th>GeneName</th>\n",
       "      <th>Target</th>\n",
       "    </tr>\n",
       "  </thead>\n",
       "  <tbody>\n",
       "    <tr>\n",
       "      <th>0</th>\n",
       "      <td>DB00001</td>\n",
       "      <td>F2</td>\n",
       "      <td>Treat</td>\n",
       "      <td>coagulation factor II, thrombin</td>\n",
       "      <td>2147.0</td>\n",
       "    </tr>\n",
       "    <tr>\n",
       "      <th>1</th>\n",
       "      <td>DB00002</td>\n",
       "      <td>EGFR</td>\n",
       "      <td>Treat</td>\n",
       "      <td>epidermal growth factor receptor</td>\n",
       "      <td>1956.0</td>\n",
       "    </tr>\n",
       "    <tr>\n",
       "      <th>2</th>\n",
       "      <td>DB00002</td>\n",
       "      <td>FCGR3B</td>\n",
       "      <td>Treat</td>\n",
       "      <td>Fc fragment of IgG receptor IIIb</td>\n",
       "      <td>2215.0</td>\n",
       "    </tr>\n",
       "    <tr>\n",
       "      <th>3</th>\n",
       "      <td>DB00002</td>\n",
       "      <td>C1QA</td>\n",
       "      <td>Treat</td>\n",
       "      <td>complement C1q A chain</td>\n",
       "      <td>712.0</td>\n",
       "    </tr>\n",
       "    <tr>\n",
       "      <th>4</th>\n",
       "      <td>DB00002</td>\n",
       "      <td>C1QB</td>\n",
       "      <td>Treat</td>\n",
       "      <td>complement C1q B chain</td>\n",
       "      <td>713.0</td>\n",
       "    </tr>\n",
       "  </tbody>\n",
       "</table>\n",
       "</div>"
      ],
      "text/plain": [
       "    Source GeneSymbol Interaction                          GeneName  Target\n",
       "0  DB00001         F2       Treat   coagulation factor II, thrombin  2147.0\n",
       "1  DB00002       EGFR       Treat  epidermal growth factor receptor  1956.0\n",
       "2  DB00002     FCGR3B       Treat  Fc fragment of IgG receptor IIIb  2215.0\n",
       "3  DB00002       C1QA       Treat            complement C1q A chain   712.0\n",
       "4  DB00002       C1QB       Treat            complement C1q B chain   713.0"
      ]
     },
     "execution_count": 63,
     "metadata": {},
     "output_type": "execute_result"
    }
   ],
   "source": [
    "drug_common_gene_edges.head()"
   ]
  },
  {
   "cell_type": "code",
   "execution_count": null,
   "metadata": {
    "collapsed": true,
    "nbpresent": {
     "id": "5963974c-3540-4ec3-b9e0-ce954ab9b091"
    }
   },
   "outputs": [],
   "source": []
  },
  {
   "cell_type": "code",
   "execution_count": null,
   "metadata": {
    "collapsed": true,
    "nbpresent": {
     "id": "0fc5d952-c09f-48e4-9e1e-442993c763b4"
    }
   },
   "outputs": [],
   "source": []
  },
  {
   "cell_type": "markdown",
   "metadata": {
    "nbpresent": {
     "id": "a134c71a-98ae-4255-b87a-f7f10f334615"
    }
   },
   "source": [
    "## Import nodes and edges csv files in Gephi, create graphs. Sample graph shown below:"
   ]
  },
  {
   "cell_type": "markdown",
   "metadata": {},
   "source": [
    "![Sample Graph](\"img/screenshot_092437\")"
   ]
  },
  {
   "cell_type": "code",
   "execution_count": 65,
   "metadata": {
    "collapsed": false,
    "nbpresent": {
     "id": "aed66057-79b7-4369-a1dc-d7b8c7cfc4e1"
    }
   },
   "outputs": [
    {
     "data": {
      "image/png": "img/screenshot_092437",
      "text/plain": [
       "<IPython.core.display.Image object>"
      ]
     },
     "execution_count": 65,
     "metadata": {},
     "output_type": "execute_result"
    }
   ],
   "source": [
    "from IPython.display import Image\n",
    "Image(\"img/screenshot_092437\")"
   ]
  },
  {
   "cell_type": "code",
   "execution_count": null,
   "metadata": {
    "collapsed": true,
    "nbpresent": {
     "id": "e10bb450-5298-4cc4-91b3-4b23e761693b"
    }
   },
   "outputs": [],
   "source": []
  }
 ],
 "metadata": {
  "colab": {
   "name": "PRIDE_Gephi.ipynb",
   "provenance": []
  },
  "kernelspec": {
   "display_name": "Python 3",
   "language": "python",
   "name": "python3"
  },
  "language_info": {
   "codemirror_mode": {
    "name": "ipython",
    "version": 3
   },
   "file_extension": ".py",
   "mimetype": "text/x-python",
   "name": "python",
   "nbconvert_exporter": "python",
   "pygments_lexer": "ipython3",
   "version": "3.6.0"
  }
 },
 "nbformat": 4,
 "nbformat_minor": 0
}
